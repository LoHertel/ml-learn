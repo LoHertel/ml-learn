{
  "cells": [
    {
      "cell_type": "markdown",
      "metadata": {
        "id": "TwqH8S_zh3TV"
      },
      "source": [
        "## Homework\n",
        "\n",
        "### Dataset\n",
        "\n",
        "In this homework, we will use the California Housing Prices. You can take it from\n",
        "[Kaggle](https://www.kaggle.com/datasets/camnugent/california-housing-prices).\n",
        "\n",
        "The goal of this homework is to create a regression model for predicting housing prices (column `'median_house_value'`)."
      ]
    },
    {
      "cell_type": "code",
      "execution_count": null,
      "metadata": {
        "colab": {
          "base_uri": "https://localhost:8080/"
        },
        "id": "RcqQrT4J4qnn",
        "outputId": "a8238b07-a98d-4b0f-cdf5-9249d646f974"
      },
      "outputs": [
        {
          "name": "stdout",
          "output_type": "stream",
          "text": [
            "--2022-09-26 19:11:41--  https://raw.githubusercontent.com/alexeygrigorev/datasets/master/housing.csv\n",
            "Resolving raw.githubusercontent.com (raw.githubusercontent.com)... 185.199.108.133, 185.199.111.133, 185.199.109.133, ...\n",
            "Connecting to raw.githubusercontent.com (raw.githubusercontent.com)|185.199.108.133|:443... connected.\n",
            "HTTP request sent, awaiting response... 200 OK\n",
            "Length: 1423529 (1.4M) [text/plain]\n",
            "Saving to: ‘housing.csv’\n",
            "\n",
            "housing.csv         100%[===================>]   1.36M  --.-KB/s    in 0.07s   \n",
            "\n",
            "2022-09-26 19:11:42 (19.4 MB/s) - ‘housing.csv’ saved [1423529/1423529]\n",
            "\n"
          ]
        }
      ],
      "source": [
        "!wget https://raw.githubusercontent.com/alexeygrigorev/datasets/master/housing.csv"
      ]
    },
    {
      "cell_type": "code",
      "execution_count": 62,
      "metadata": {
        "id": "LR9Inr2cn3P1"
      },
      "outputs": [],
      "source": [
        "import numpy as np\n",
        "import pandas as pd\n",
        "\n",
        "from sklearn.exceptions import NotFittedError\n",
        "from sklearn.feature_extraction import DictVectorizer\n",
        "from sklearn.linear_model import LogisticRegression, Ridge\n",
        "from sklearn.metrics import mean_squared_error, mutual_info_score\n",
        "from sklearn.model_selection import train_test_split\n",
        "from sklearn.utils.validation import check_is_fitted"
      ]
    },
    {
      "cell_type": "code",
      "execution_count": null,
      "metadata": {
        "id": "vHNP2qS6n7Q4"
      },
      "outputs": [],
      "source": [
        "df = pd.read_csv('housing.csv')"
      ]
    },
    {
      "cell_type": "markdown",
      "metadata": {
        "id": "rmEMO-8qU0A9"
      },
      "source": [
        "# Features\n",
        "\n",
        "For the rest of the homework, you'll need to use only these columns:\n",
        "\n",
        "* `'latitude'`,\n",
        "* `'longitude'`,\n",
        "* `'housing_median_age'`,\n",
        "* `'total_rooms'`,\n",
        "* `'total_bedrooms'`,\n",
        "* `'population'`,\n",
        "* `'households'`,\n",
        "* `'median_income'`,\n",
        "* `'median_house_value'`\n",
        "* `'ocean_proximity'`,"
      ]
    },
    {
      "cell_type": "code",
      "execution_count": null,
      "metadata": {
        "id": "HkOxX8BUpfUS"
      },
      "outputs": [],
      "source": [
        "features = ['latitude', 'longitude', 'housing_median_age', 'total_rooms', 'total_bedrooms', 'population', 'households', 'median_income',\n",
        "            'ocean_proximity', 'rooms_per_household', 'bedrooms_per_room', 'population_per_household']\n",
        "target = 'above_average'"
      ]
    },
    {
      "cell_type": "markdown",
      "metadata": {
        "id": "nunb7tQjVUj2"
      },
      "source": [
        "# Data preparation\n",
        "\n",
        "* Select only the features from above and fill in the missing values with 0.\n",
        "* Create a new column `rooms_per_household` by dividing the column `total_rooms` by the column `households` from dataframe. \n",
        "* Create a new column `bedrooms_per_room` by dividing the column `total_bedrooms` by the column `total_rooms` from dataframe. \n",
        "* Create a new column `population_per_household` by dividing the column `population` by the column `households` from dataframe."
      ]
    },
    {
      "cell_type": "code",
      "execution_count": null,
      "metadata": {
        "colab": {
          "base_uri": "https://localhost:8080/"
        },
        "id": "cuqGcYVLpbeo",
        "outputId": "04b238f3-8bbf-4ed1-adbe-f7a97910ff29"
      },
      "outputs": [
        {
          "data": {
            "text/plain": [
              "latitude                0\n",
              "longitude               0\n",
              "housing_median_age      0\n",
              "total_rooms             0\n",
              "total_bedrooms        207\n",
              "population              0\n",
              "households              0\n",
              "median_income           0\n",
              "ocean_proximity         0\n",
              "dtype: int64"
            ]
          },
          "execution_count": 5,
          "metadata": {},
          "output_type": "execute_result"
        }
      ],
      "source": [
        "df[[feature for feature in features if feature in list(df.columns)]].isnull().sum()"
      ]
    },
    {
      "cell_type": "code",
      "execution_count": null,
      "metadata": {
        "id": "Mg_6hH1TVXRs"
      },
      "outputs": [],
      "source": [
        "df.total_bedrooms = df.total_bedrooms.fillna(0)"
      ]
    },
    {
      "cell_type": "code",
      "execution_count": null,
      "metadata": {
        "id": "rkVxr14_Vyu6"
      },
      "outputs": [],
      "source": [
        "df['rooms_per_household'] = df.total_rooms / df.households\n",
        "df['bedrooms_per_room'] = df.total_bedrooms / df.total_rooms\n",
        "df['population_per_household'] = df.population / df.households"
      ]
    },
    {
      "cell_type": "markdown",
      "metadata": {
        "id": "ork_lZkOWb7Z"
      },
      "source": [
        "# Question 1\n",
        "\n",
        "What is the most frequent observation (mode) for the column `ocean_proximity`?"
      ]
    },
    {
      "cell_type": "code",
      "execution_count": null,
      "metadata": {
        "colab": {
          "base_uri": "https://localhost:8080/"
        },
        "id": "Z6IJmtJyWgdI",
        "outputId": "d1aaf68a-e8e0-4c1f-ca69-0d12713fbed8"
      },
      "outputs": [
        {
          "data": {
            "text/plain": [
              "0    <1H OCEAN\n",
              "dtype: object"
            ]
          },
          "execution_count": 8,
          "metadata": {},
          "output_type": "execute_result"
        }
      ],
      "source": [
        "df.ocean_proximity.mode()"
      ]
    },
    {
      "cell_type": "markdown",
      "metadata": {
        "id": "NPMHwSfFXBWD"
      },
      "source": [
        "# Split the data\n",
        "\n",
        "* Split your data in train/val/test sets, with 60%/20%/20% distribution.\n",
        "* Use Scikit-Learn for that (the `train_test_split` function) and set the seed to 42.\n",
        "* Make sure that the target value (`median_house_value`) is not in your dataframe."
      ]
    },
    {
      "cell_type": "code",
      "execution_count": null,
      "metadata": {
        "id": "EheJep-8XHVr"
      },
      "outputs": [],
      "source": [
        "def train_val_test_split(df, seed=None):\n",
        "  df_full_train, df_test = train_test_split(df, test_size=0.2, random_state=seed)\n",
        "  df_train, df_val = train_test_split(df_full_train, test_size=0.25, random_state=seed)\n",
        "  return df_train, df_val, df_full_train, df_test"
      ]
    },
    {
      "cell_type": "markdown",
      "metadata": {
        "id": "ZntAzl5pXxC1"
      },
      "source": [
        "# Question 2\n",
        "\n",
        "* Create the [correlation matrix](https://www.google.com/search?q=correlation+matrix) for the numerical features of your train dataset.\n",
        "    - In a correlation matrix, you compute the correlation coefficient between every pair of features in the dataset.\n",
        "* What are the two features that have the biggest correlation in this dataset?"
      ]
    },
    {
      "cell_type": "code",
      "execution_count": 66,
      "metadata": {
        "colab": {
          "base_uri": "https://localhost:8080/",
          "height": 454
        },
        "id": "z54To2DPXypi",
        "outputId": "9a74d909-0308-4684-c5d7-9e57cccddc64"
      },
      "outputs": [
        {
          "output_type": "execute_result",
          "data": {
            "text/plain": [
              "                          longitude  total_rooms  total_bedrooms  latitude  \\\n",
              "longitude                  1.000000     0.036449        0.063840 -0.925005   \n",
              "total_rooms                0.036449     1.000000        0.931546 -0.025914   \n",
              "total_bedrooms             0.063840     0.931546        1.000000 -0.059730   \n",
              "latitude                  -0.925005    -0.025914       -0.059730  1.000000   \n",
              "rooms_per_household       -0.034814     0.168926        0.010381  0.119118   \n",
              "housing_median_age        -0.099812    -0.363522       -0.324156  0.002477   \n",
              "population                 0.091670     0.853219        0.877340 -0.100272   \n",
              "population_per_household   0.011022    -0.029452       -0.034301 -0.002301   \n",
              "bedrooms_per_room          0.102320    -0.194185        0.078094 -0.124507   \n",
              "households                 0.049762     0.921441        0.979399 -0.063529   \n",
              "median_income             -0.016426     0.198951       -0.009833 -0.076805   \n",
              "\n",
              "                          rooms_per_household  housing_median_age  population  \\\n",
              "longitude                           -0.034814           -0.099812    0.091670   \n",
              "total_rooms                          0.168926           -0.363522    0.853219   \n",
              "total_bedrooms                       0.010381           -0.324156    0.877340   \n",
              "latitude                             0.119118            0.002477   -0.100272   \n",
              "rooms_per_household                  1.000000           -0.181275   -0.076210   \n",
              "housing_median_age                  -0.181275            1.000000   -0.292476   \n",
              "population                          -0.076210           -0.292476    1.000000   \n",
              "population_per_household             0.001801            0.012167    0.064998   \n",
              "bedrooms_per_room                   -0.500589            0.129456    0.031592   \n",
              "households                          -0.085832           -0.306119    0.906841   \n",
              "median_income                        0.394154           -0.119591   -0.000849   \n",
              "\n",
              "                          population_per_household  bedrooms_per_room  \\\n",
              "longitude                                 0.011022           0.102320   \n",
              "total_rooms                              -0.029452          -0.194185   \n",
              "total_bedrooms                           -0.034301           0.078094   \n",
              "latitude                                 -0.002301          -0.124507   \n",
              "rooms_per_household                       0.001801          -0.500589   \n",
              "housing_median_age                        0.012167           0.129456   \n",
              "population                                0.064998           0.031592   \n",
              "population_per_household                  1.000000          -0.002851   \n",
              "bedrooms_per_room                        -0.002851           1.000000   \n",
              "households                               -0.032522           0.058004   \n",
              "median_income                            -0.000454          -0.616617   \n",
              "\n",
              "                          households  median_income  \n",
              "longitude                   0.049762      -0.016426  \n",
              "total_rooms                 0.921441       0.198951  \n",
              "total_bedrooms              0.979399      -0.009833  \n",
              "latitude                   -0.063529      -0.076805  \n",
              "rooms_per_household        -0.085832       0.394154  \n",
              "housing_median_age         -0.306119      -0.119591  \n",
              "population                  0.906841      -0.000849  \n",
              "population_per_household   -0.032522      -0.000454  \n",
              "bedrooms_per_room           0.058004      -0.616617  \n",
              "households                  1.000000       0.011925  \n",
              "median_income               0.011925       1.000000  "
            ],
            "text/html": [
              "\n",
              "  <div id=\"df-6718049d-c3f6-4d72-8654-c08d12549154\">\n",
              "    <div class=\"colab-df-container\">\n",
              "      <div>\n",
              "<style scoped>\n",
              "    .dataframe tbody tr th:only-of-type {\n",
              "        vertical-align: middle;\n",
              "    }\n",
              "\n",
              "    .dataframe tbody tr th {\n",
              "        vertical-align: top;\n",
              "    }\n",
              "\n",
              "    .dataframe thead th {\n",
              "        text-align: right;\n",
              "    }\n",
              "</style>\n",
              "<table border=\"1\" class=\"dataframe\">\n",
              "  <thead>\n",
              "    <tr style=\"text-align: right;\">\n",
              "      <th></th>\n",
              "      <th>longitude</th>\n",
              "      <th>total_rooms</th>\n",
              "      <th>total_bedrooms</th>\n",
              "      <th>latitude</th>\n",
              "      <th>rooms_per_household</th>\n",
              "      <th>housing_median_age</th>\n",
              "      <th>population</th>\n",
              "      <th>population_per_household</th>\n",
              "      <th>bedrooms_per_room</th>\n",
              "      <th>households</th>\n",
              "      <th>median_income</th>\n",
              "    </tr>\n",
              "  </thead>\n",
              "  <tbody>\n",
              "    <tr>\n",
              "      <th>longitude</th>\n",
              "      <td>1.000000</td>\n",
              "      <td>0.036449</td>\n",
              "      <td>0.063840</td>\n",
              "      <td>-0.925005</td>\n",
              "      <td>-0.034814</td>\n",
              "      <td>-0.099812</td>\n",
              "      <td>0.091670</td>\n",
              "      <td>0.011022</td>\n",
              "      <td>0.102320</td>\n",
              "      <td>0.049762</td>\n",
              "      <td>-0.016426</td>\n",
              "    </tr>\n",
              "    <tr>\n",
              "      <th>total_rooms</th>\n",
              "      <td>0.036449</td>\n",
              "      <td>1.000000</td>\n",
              "      <td>0.931546</td>\n",
              "      <td>-0.025914</td>\n",
              "      <td>0.168926</td>\n",
              "      <td>-0.363522</td>\n",
              "      <td>0.853219</td>\n",
              "      <td>-0.029452</td>\n",
              "      <td>-0.194185</td>\n",
              "      <td>0.921441</td>\n",
              "      <td>0.198951</td>\n",
              "    </tr>\n",
              "    <tr>\n",
              "      <th>total_bedrooms</th>\n",
              "      <td>0.063840</td>\n",
              "      <td>0.931546</td>\n",
              "      <td>1.000000</td>\n",
              "      <td>-0.059730</td>\n",
              "      <td>0.010381</td>\n",
              "      <td>-0.324156</td>\n",
              "      <td>0.877340</td>\n",
              "      <td>-0.034301</td>\n",
              "      <td>0.078094</td>\n",
              "      <td>0.979399</td>\n",
              "      <td>-0.009833</td>\n",
              "    </tr>\n",
              "    <tr>\n",
              "      <th>latitude</th>\n",
              "      <td>-0.925005</td>\n",
              "      <td>-0.025914</td>\n",
              "      <td>-0.059730</td>\n",
              "      <td>1.000000</td>\n",
              "      <td>0.119118</td>\n",
              "      <td>0.002477</td>\n",
              "      <td>-0.100272</td>\n",
              "      <td>-0.002301</td>\n",
              "      <td>-0.124507</td>\n",
              "      <td>-0.063529</td>\n",
              "      <td>-0.076805</td>\n",
              "    </tr>\n",
              "    <tr>\n",
              "      <th>rooms_per_household</th>\n",
              "      <td>-0.034814</td>\n",
              "      <td>0.168926</td>\n",
              "      <td>0.010381</td>\n",
              "      <td>0.119118</td>\n",
              "      <td>1.000000</td>\n",
              "      <td>-0.181275</td>\n",
              "      <td>-0.076210</td>\n",
              "      <td>0.001801</td>\n",
              "      <td>-0.500589</td>\n",
              "      <td>-0.085832</td>\n",
              "      <td>0.394154</td>\n",
              "    </tr>\n",
              "    <tr>\n",
              "      <th>housing_median_age</th>\n",
              "      <td>-0.099812</td>\n",
              "      <td>-0.363522</td>\n",
              "      <td>-0.324156</td>\n",
              "      <td>0.002477</td>\n",
              "      <td>-0.181275</td>\n",
              "      <td>1.000000</td>\n",
              "      <td>-0.292476</td>\n",
              "      <td>0.012167</td>\n",
              "      <td>0.129456</td>\n",
              "      <td>-0.306119</td>\n",
              "      <td>-0.119591</td>\n",
              "    </tr>\n",
              "    <tr>\n",
              "      <th>population</th>\n",
              "      <td>0.091670</td>\n",
              "      <td>0.853219</td>\n",
              "      <td>0.877340</td>\n",
              "      <td>-0.100272</td>\n",
              "      <td>-0.076210</td>\n",
              "      <td>-0.292476</td>\n",
              "      <td>1.000000</td>\n",
              "      <td>0.064998</td>\n",
              "      <td>0.031592</td>\n",
              "      <td>0.906841</td>\n",
              "      <td>-0.000849</td>\n",
              "    </tr>\n",
              "    <tr>\n",
              "      <th>population_per_household</th>\n",
              "      <td>0.011022</td>\n",
              "      <td>-0.029452</td>\n",
              "      <td>-0.034301</td>\n",
              "      <td>-0.002301</td>\n",
              "      <td>0.001801</td>\n",
              "      <td>0.012167</td>\n",
              "      <td>0.064998</td>\n",
              "      <td>1.000000</td>\n",
              "      <td>-0.002851</td>\n",
              "      <td>-0.032522</td>\n",
              "      <td>-0.000454</td>\n",
              "    </tr>\n",
              "    <tr>\n",
              "      <th>bedrooms_per_room</th>\n",
              "      <td>0.102320</td>\n",
              "      <td>-0.194185</td>\n",
              "      <td>0.078094</td>\n",
              "      <td>-0.124507</td>\n",
              "      <td>-0.500589</td>\n",
              "      <td>0.129456</td>\n",
              "      <td>0.031592</td>\n",
              "      <td>-0.002851</td>\n",
              "      <td>1.000000</td>\n",
              "      <td>0.058004</td>\n",
              "      <td>-0.616617</td>\n",
              "    </tr>\n",
              "    <tr>\n",
              "      <th>households</th>\n",
              "      <td>0.049762</td>\n",
              "      <td>0.921441</td>\n",
              "      <td>0.979399</td>\n",
              "      <td>-0.063529</td>\n",
              "      <td>-0.085832</td>\n",
              "      <td>-0.306119</td>\n",
              "      <td>0.906841</td>\n",
              "      <td>-0.032522</td>\n",
              "      <td>0.058004</td>\n",
              "      <td>1.000000</td>\n",
              "      <td>0.011925</td>\n",
              "    </tr>\n",
              "    <tr>\n",
              "      <th>median_income</th>\n",
              "      <td>-0.016426</td>\n",
              "      <td>0.198951</td>\n",
              "      <td>-0.009833</td>\n",
              "      <td>-0.076805</td>\n",
              "      <td>0.394154</td>\n",
              "      <td>-0.119591</td>\n",
              "      <td>-0.000849</td>\n",
              "      <td>-0.000454</td>\n",
              "      <td>-0.616617</td>\n",
              "      <td>0.011925</td>\n",
              "      <td>1.000000</td>\n",
              "    </tr>\n",
              "  </tbody>\n",
              "</table>\n",
              "</div>\n",
              "      <button class=\"colab-df-convert\" onclick=\"convertToInteractive('df-6718049d-c3f6-4d72-8654-c08d12549154')\"\n",
              "              title=\"Convert this dataframe to an interactive table.\"\n",
              "              style=\"display:none;\">\n",
              "        \n",
              "  <svg xmlns=\"http://www.w3.org/2000/svg\" height=\"24px\"viewBox=\"0 0 24 24\"\n",
              "       width=\"24px\">\n",
              "    <path d=\"M0 0h24v24H0V0z\" fill=\"none\"/>\n",
              "    <path d=\"M18.56 5.44l.94 2.06.94-2.06 2.06-.94-2.06-.94-.94-2.06-.94 2.06-2.06.94zm-11 1L8.5 8.5l.94-2.06 2.06-.94-2.06-.94L8.5 2.5l-.94 2.06-2.06.94zm10 10l.94 2.06.94-2.06 2.06-.94-2.06-.94-.94-2.06-.94 2.06-2.06.94z\"/><path d=\"M17.41 7.96l-1.37-1.37c-.4-.4-.92-.59-1.43-.59-.52 0-1.04.2-1.43.59L10.3 9.45l-7.72 7.72c-.78.78-.78 2.05 0 2.83L4 21.41c.39.39.9.59 1.41.59.51 0 1.02-.2 1.41-.59l7.78-7.78 2.81-2.81c.8-.78.8-2.07 0-2.86zM5.41 20L4 18.59l7.72-7.72 1.47 1.35L5.41 20z\"/>\n",
              "  </svg>\n",
              "      </button>\n",
              "      \n",
              "  <style>\n",
              "    .colab-df-container {\n",
              "      display:flex;\n",
              "      flex-wrap:wrap;\n",
              "      gap: 12px;\n",
              "    }\n",
              "\n",
              "    .colab-df-convert {\n",
              "      background-color: #E8F0FE;\n",
              "      border: none;\n",
              "      border-radius: 50%;\n",
              "      cursor: pointer;\n",
              "      display: none;\n",
              "      fill: #1967D2;\n",
              "      height: 32px;\n",
              "      padding: 0 0 0 0;\n",
              "      width: 32px;\n",
              "    }\n",
              "\n",
              "    .colab-df-convert:hover {\n",
              "      background-color: #E2EBFA;\n",
              "      box-shadow: 0px 1px 2px rgba(60, 64, 67, 0.3), 0px 1px 3px 1px rgba(60, 64, 67, 0.15);\n",
              "      fill: #174EA6;\n",
              "    }\n",
              "\n",
              "    [theme=dark] .colab-df-convert {\n",
              "      background-color: #3B4455;\n",
              "      fill: #D2E3FC;\n",
              "    }\n",
              "\n",
              "    [theme=dark] .colab-df-convert:hover {\n",
              "      background-color: #434B5C;\n",
              "      box-shadow: 0px 1px 3px 1px rgba(0, 0, 0, 0.15);\n",
              "      filter: drop-shadow(0px 1px 2px rgba(0, 0, 0, 0.3));\n",
              "      fill: #FFFFFF;\n",
              "    }\n",
              "  </style>\n",
              "\n",
              "      <script>\n",
              "        const buttonEl =\n",
              "          document.querySelector('#df-6718049d-c3f6-4d72-8654-c08d12549154 button.colab-df-convert');\n",
              "        buttonEl.style.display =\n",
              "          google.colab.kernel.accessAllowed ? 'block' : 'none';\n",
              "\n",
              "        async function convertToInteractive(key) {\n",
              "          const element = document.querySelector('#df-6718049d-c3f6-4d72-8654-c08d12549154');\n",
              "          const dataTable =\n",
              "            await google.colab.kernel.invokeFunction('convertToInteractive',\n",
              "                                                     [key], {});\n",
              "          if (!dataTable) return;\n",
              "\n",
              "          const docLinkHtml = 'Like what you see? Visit the ' +\n",
              "            '<a target=\"_blank\" href=https://colab.research.google.com/notebooks/data_table.ipynb>data table notebook</a>'\n",
              "            + ' to learn more about interactive tables.';\n",
              "          element.innerHTML = '';\n",
              "          dataTable['output_type'] = 'display_data';\n",
              "          await google.colab.output.renderOutput(dataTable, element);\n",
              "          const docLink = document.createElement('div');\n",
              "          docLink.innerHTML = docLinkHtml;\n",
              "          element.appendChild(docLink);\n",
              "        }\n",
              "      </script>\n",
              "    </div>\n",
              "  </div>\n",
              "  "
            ]
          },
          "metadata": {},
          "execution_count": 66
        }
      ],
      "source": [
        "df_train[list(set(features) - set(['ocean_proximity']))].corr()"
      ]
    },
    {
      "cell_type": "markdown",
      "metadata": {
        "id": "2ycTSGlugpv_"
      },
      "source": [
        "total_bedrooms - households: 0.98"
      ]
    },
    {
      "cell_type": "markdown",
      "metadata": {
        "id": "b0ZJLdn2hSpC"
      },
      "source": [
        "# Make `median_house_value` binary\n",
        "\n",
        "* We need to turn the `median_house_value` variable from numeric into binary.\n",
        "* Let's create a variable `above_average` which is `1` if the `median_house_value` is above its mean value and `0` otherwise."
      ]
    },
    {
      "cell_type": "code",
      "execution_count": null,
      "metadata": {
        "id": "zEvUzqimhZ0e"
      },
      "outputs": [],
      "source": [
        "df['above_average'] = df['median_house_value'] > df['median_house_value'].mean()\n",
        "df = df.astype({'above_average': 'int16'})"
      ]
    },
    {
      "cell_type": "markdown",
      "metadata": {
        "id": "G9NHkWlQrTLX"
      },
      "source": [
        "# Split the data\n",
        "\n",
        "* Shuffle the initial dataset, use seed `42`.\n",
        "* Split your data in train/val/test sets, with 60%/20%/20% distribution.\n",
        "* Make sure that the target value ('median_house_value') is not in your dataframe.\n",
        "* Apply the log transformation to the median_house_value variable using the `np.log1p()` function.\n"
      ]
    },
    {
      "cell_type": "code",
      "execution_count": null,
      "metadata": {
        "id": "5dvl5ARS_lVK"
      },
      "outputs": [],
      "source": [
        "def train_val_test_split(df, val_split=0.2, test_split=0.2, seed=None):\n",
        "\n",
        "  # train_split = 1 - val_split - test_split\n",
        "\n",
        "  # create splits\n",
        "  df_full_train, df_test = train_test_split(df, test_size=test_split, random_state=seed)\n",
        "  df_train, df_val = train_test_split(df_full_train, test_size=val_split/(1-test_split), random_state=seed)\n",
        "\n",
        "  # return\n",
        "  return (df_train, df_val, df_full_train, df_test)"
      ]
    },
    {
      "cell_type": "code",
      "execution_count": null,
      "metadata": {
        "id": "AULcPkIyiB9m"
      },
      "outputs": [],
      "source": [
        "df_train, df_val, df_full_train, df_test = train_val_test_split(df, seed=42)"
      ]
    },
    {
      "cell_type": "markdown",
      "metadata": {
        "id": "yxXEkrm3h_YG"
      },
      "source": [
        "# Question 3\n",
        "\n",
        "* Calculate the mutual information score with the (binarized) price for the categorical variable that we have. Use the training set only.\n",
        "* What is the value of mutual information?\n",
        "* Round it to 2 decimal digits using `round(score, 2)`"
      ]
    },
    {
      "cell_type": "code",
      "execution_count": 28,
      "metadata": {
        "colab": {
          "base_uri": "https://localhost:8080/"
        },
        "id": "OHqBVIgYU3ZU",
        "outputId": "e9e0e45f-679a-4831-cf0b-1977f79b3ea0"
      },
      "outputs": [
        {
          "output_type": "execute_result",
          "data": {
            "text/plain": [
              "0.1"
            ]
          },
          "metadata": {},
          "execution_count": 28
        }
      ],
      "source": [
        "round(mutual_info_score(df_train.above_average, df_train.ocean_proximity), 2)"
      ]
    },
    {
      "cell_type": "markdown",
      "metadata": {
        "id": "5FfO02ByVlgN"
      },
      "source": [
        "# Question 4\n",
        "\n",
        "* Now let's train a logistic regression\n",
        "* Remember that we have one categorical variable `ocean_proximity` in the data. Include it using one-hot encoding.\n",
        "* Fit the model on the training dataset.\n",
        "    - To make sure the results are reproducible across different versions of Scikit-Learn, fit the model with these parameters:\n",
        "    - `model = LogisticRegression(solver=\"liblinear\", C=1.0, max_iter=1000, random_state=42)`\n",
        "* Calculate the accuracy on the validation dataset and round it to 2 decimal digits.\n"
      ]
    },
    {
      "cell_type": "code",
      "execution_count": null,
      "metadata": {
        "id": "kww0PqjLbvxT"
      },
      "outputs": [],
      "source": [
        "def prepare(dv, df, features, target):\n",
        "\n",
        "  feat_dict = df[features].to_dict(orient='records')\n",
        "  \n",
        "  try:\n",
        "    check_is_fitted(dv, attributes='feature_names_')\n",
        "  except NotFittedError as e:\n",
        "    dv.fit(feat_dict)\n",
        "  \n",
        "  X = dv.transform(feat_dict)\n",
        "  y = df[target].values\n",
        "\n",
        "  return (X, y)"
      ]
    },
    {
      "cell_type": "code",
      "source": [
        "def train_logreg(df, features, target, seed=None):\n",
        "  dv = DictVectorizer(sparse=False)\n",
        "\n",
        "  X_train, y_train = prepare(dv, df_train, features, target)\n",
        "  X_val, y_val = prepare(dv, df_val, features, target)\n",
        "\n",
        "  model = LogisticRegression(solver=\"liblinear\", C=1.0, max_iter=1000, random_state=seed)\n",
        "  model.fit(X_train, y_train)\n",
        "\n",
        "  y_pred = model.predict_proba(X_val)[:, 1]\n",
        "  above_average_pred = (y_pred >= 0.5)\n",
        "  # Accuracy\n",
        "  return (y_val == above_average_pred).mean()"
      ],
      "metadata": {
        "id": "t4KOsHcCjuRU"
      },
      "execution_count": 61,
      "outputs": []
    },
    {
      "cell_type": "code",
      "source": [
        "accuracy = train_logreg(df, features, target, seed=42)\n",
        "round(accuracy, 2)"
      ],
      "metadata": {
        "colab": {
          "base_uri": "https://localhost:8080/"
        },
        "id": "a4ApdZ4iklQJ",
        "outputId": "e6e2a57e-9c14-4a6d-9b73-9fd9bae3959a"
      },
      "execution_count": 58,
      "outputs": [
        {
          "output_type": "execute_result",
          "data": {
            "text/plain": [
              "0.84"
            ]
          },
          "metadata": {},
          "execution_count": 58
        }
      ]
    },
    {
      "cell_type": "markdown",
      "metadata": {
        "id": "LFbuN9oqbYKu"
      },
      "source": [
        "# Question 5 \n",
        "\n",
        "* Let's find the least useful feature using the *feature elimination* technique.\n",
        "* Train a model with all these features (using the same parameters as in Q4).\n",
        "* Now exclude each feature from this set and train a model without it. Record the accuracy for each model.\n",
        "* For each feature, calculate the difference between the original accuracy and the accuracy without the feature. \n",
        "* Which of following feature has the smallest difference? \n",
        "   * `total_rooms`\n",
        "   * `total_bedrooms` \n",
        "   * `population`\n",
        "   * `households`\n",
        "\n",
        "> **note**: the difference doesn't have to be positive\n"
      ]
    },
    {
      "cell_type": "code",
      "execution_count": null,
      "metadata": {
        "id": "YK3iT9UKcPPq"
      },
      "outputs": [],
      "source": [
        "exclude_features = ['total_rooms', 'total_bedrooms', 'population', 'households']"
      ]
    },
    {
      "cell_type": "code",
      "source": [
        "accuracy_diffs = {}\n",
        "\n",
        "for excluded in exclude_features:\n",
        "  features_small = list(set(features).difference({excluded}))\n",
        "\n",
        "  accuracy_small = train_logreg(df, features_small, target, seed=42)\n",
        "\n",
        "  accuracy_diff = accuracy_small - accuracy\n",
        "  accuracy_diffs[excluded] = accuracy_diff"
      ],
      "metadata": {
        "id": "Tus4nu0Zf12p"
      },
      "execution_count": 59,
      "outputs": []
    },
    {
      "cell_type": "code",
      "source": [
        "accuracy_diffs"
      ],
      "metadata": {
        "colab": {
          "base_uri": "https://localhost:8080/"
        },
        "id": "ytKSVNXpey5l",
        "outputId": "874b2e88-1084-4438-ba79-713c706a69c4"
      },
      "execution_count": 60,
      "outputs": [
        {
          "output_type": "execute_result",
          "data": {
            "text/plain": [
              "{'total_rooms': 0.0029069767441860517,\n",
              " 'total_bedrooms': 0.0021802325581395943,\n",
              " 'population': -0.009205426356589164,\n",
              " 'households': -0.0021802325581394832}"
            ]
          },
          "metadata": {},
          "execution_count": 60
        }
      ]
    },
    {
      "cell_type": "markdown",
      "source": [
        "Population has the lowest difference (negative)"
      ],
      "metadata": {
        "id": "XOcVybSsjVxV"
      }
    },
    {
      "cell_type": "markdown",
      "source": [
        "# Question 6\n",
        "\n",
        "* For this question, we'll see how to use a linear regression model from Scikit-Learn\n",
        "* We'll need to use the original column `'median_house_value'`. Apply the logarithmic transformation to this column.\n",
        "* Fit the Ridge regression model (`model = Ridge(alpha=a, solver=\"sag\", random_state=42)`) on the training data.\n",
        "* This model has a parameter `alpha`. Let's try the following values: `[0, 0.01, 0.1, 1, 10]`\n",
        "* Which of these alphas leads to the best RMSE on the validation set? Round your RMSE scores to 3 decimal digits.\n",
        "\n",
        "If there are multiple options, select the smallest `alpha`."
      ],
      "metadata": {
        "id": "PH50G82dpXXP"
      }
    },
    {
      "cell_type": "code",
      "source": [
        "df['median_house_value_log'] = np.log1p(df.median_house_value)\n",
        "\n",
        "df_train, df_val, df_full_train, df_test = train_val_test_split(df, seed=42)\n",
        "\n",
        "dv = DictVectorizer(sparse=False)\n",
        "X_train, y_train_log = prepare(dv, df_train, features, target='median_house_value_log')\n",
        "X_val, y_val_log = prepare(dv, df_val, features, target='median_house_value_log')\n",
        "\n",
        "for alpha in [0, 0.01, 0.1, 1, 10]:\n",
        "  \n",
        "  model_lr = Ridge(alpha=alpha, solver=\"sag\", random_state=42)\n",
        "  model_lr.fit(X_train, y_train_log)\n",
        "\n",
        "  y_pred_log = model_lr.predict(X_val)\n",
        "    \n",
        "  score = np.sqrt(mean_squared_error(y_val_log, y_pred_log))\n",
        "    \n",
        "  print(alpha, round(score, 3))"
      ],
      "metadata": {
        "colab": {
          "base_uri": "https://localhost:8080/"
        },
        "id": "db7xypJDp41k",
        "outputId": "f81387e3-bfe9-498d-9277-a4c30c5e64f0"
      },
      "execution_count": 65,
      "outputs": [
        {
          "output_type": "stream",
          "name": "stdout",
          "text": [
            "0 0.524\n",
            "0.01 0.524\n",
            "0.1 0.524\n",
            "1 0.524\n",
            "10 0.524\n"
          ]
        }
      ]
    }
  ],
  "metadata": {
    "colab": {
      "collapsed_sections": [],
      "provenance": [],
      "authorship_tag": "ABX9TyP9zP22pGcI5RSMEupjbCSN"
    },
    "kernelspec": {
      "display_name": "Python 3",
      "name": "python3"
    },
    "language_info": {
      "name": "python"
    }
  },
  "nbformat": 4,
  "nbformat_minor": 0
}