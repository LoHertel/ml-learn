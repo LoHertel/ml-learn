{
  "cells": [
    {
      "cell_type": "markdown",
      "metadata": {
        "id": "TwqH8S_zh3TV"
      },
      "source": [
        "## Homework\n",
        "\n",
        "### Dataset\n",
        "\n",
        "In this homework, we will use the California Housing Prices. You can take it from\n",
        "[Kaggle](https://www.kaggle.com/datasets/camnugent/california-housing-prices).\n",
        "\n",
        "The goal of this homework is to create a regression model for predicting housing prices (column `'median_house_value'`)."
      ]
    },
    {
      "cell_type": "code",
      "execution_count": null,
      "metadata": {
        "colab": {
          "base_uri": "https://localhost:8080/"
        },
        "id": "RcqQrT4J4qnn",
        "outputId": "a8238b07-a98d-4b0f-cdf5-9249d646f974"
      },
      "outputs": [
        {
          "name": "stdout",
          "output_type": "stream",
          "text": [
            "--2022-09-26 19:11:41--  https://raw.githubusercontent.com/alexeygrigorev/datasets/master/housing.csv\n",
            "Resolving raw.githubusercontent.com (raw.githubusercontent.com)... 185.199.108.133, 185.199.111.133, 185.199.109.133, ...\n",
            "Connecting to raw.githubusercontent.com (raw.githubusercontent.com)|185.199.108.133|:443... connected.\n",
            "HTTP request sent, awaiting response... 200 OK\n",
            "Length: 1423529 (1.4M) [text/plain]\n",
            "Saving to: ‘housing.csv’\n",
            "\n",
            "housing.csv         100%[===================>]   1.36M  --.-KB/s    in 0.07s   \n",
            "\n",
            "2022-09-26 19:11:42 (19.4 MB/s) - ‘housing.csv’ saved [1423529/1423529]\n",
            "\n"
          ]
        }
      ],
      "source": [
        "!wget https://raw.githubusercontent.com/alexeygrigorev/datasets/master/housing.csv"
      ]
    },
    {
      "cell_type": "code",
      "execution_count": null,
      "metadata": {
        "id": "LR9Inr2cn3P1"
      },
      "outputs": [],
      "source": [
        "import numpy as np\n",
        "import pandas as pd\n",
        "\n",
        "from sklearn.exceptions import NotFittedError\n",
        "from sklearn.feature_extraction import DictVectorizer\n",
        "from sklearn.linear_model import LogisticRegression\n",
        "from sklearn.metrics import mutual_info_score\n",
        "from sklearn.model_selection import train_test_split\n",
        "from sklearn.utils.validation import check_is_fitted"
      ]
    },
    {
      "cell_type": "code",
      "execution_count": null,
      "metadata": {
        "id": "vHNP2qS6n7Q4"
      },
      "outputs": [],
      "source": [
        "df = pd.read_csv('housing.csv')"
      ]
    },
    {
      "cell_type": "markdown",
      "metadata": {
        "id": "rmEMO-8qU0A9"
      },
      "source": [
        "# Features\n",
        "\n",
        "For the rest of the homework, you'll need to use only these columns:\n",
        "\n",
        "* `'latitude'`,\n",
        "* `'longitude'`,\n",
        "* `'housing_median_age'`,\n",
        "* `'total_rooms'`,\n",
        "* `'total_bedrooms'`,\n",
        "* `'population'`,\n",
        "* `'households'`,\n",
        "* `'median_income'`,\n",
        "* `'median_house_value'`\n",
        "* `'ocean_proximity'`,"
      ]
    },
    {
      "cell_type": "code",
      "execution_count": null,
      "metadata": {
        "id": "HkOxX8BUpfUS"
      },
      "outputs": [],
      "source": [
        "features = ['latitude', 'longitude', 'housing_median_age', 'total_rooms', 'total_bedrooms', 'population', 'households', 'median_income',\n",
        "            'ocean_proximity', 'rooms_per_household', 'bedrooms_per_room', 'population_per_household']\n",
        "target = 'above_average'"
      ]
    },
    {
      "cell_type": "markdown",
      "metadata": {
        "id": "nunb7tQjVUj2"
      },
      "source": [
        "# Data preparation\n",
        "\n",
        "* Select only the features from above and fill in the missing values with 0.\n",
        "* Create a new column `rooms_per_household` by dividing the column `total_rooms` by the column `households` from dataframe. \n",
        "* Create a new column `bedrooms_per_room` by dividing the column `total_bedrooms` by the column `total_rooms` from dataframe. \n",
        "* Create a new column `population_per_household` by dividing the column `population` by the column `households` from dataframe."
      ]
    },
    {
      "cell_type": "code",
      "execution_count": null,
      "metadata": {
        "colab": {
          "base_uri": "https://localhost:8080/"
        },
        "id": "cuqGcYVLpbeo",
        "outputId": "04b238f3-8bbf-4ed1-adbe-f7a97910ff29"
      },
      "outputs": [
        {
          "data": {
            "text/plain": [
              "latitude                0\n",
              "longitude               0\n",
              "housing_median_age      0\n",
              "total_rooms             0\n",
              "total_bedrooms        207\n",
              "population              0\n",
              "households              0\n",
              "median_income           0\n",
              "ocean_proximity         0\n",
              "dtype: int64"
            ]
          },
          "execution_count": 5,
          "metadata": {},
          "output_type": "execute_result"
        }
      ],
      "source": [
        "df[[feature for feature in features if feature in list(df.columns)]].isnull().sum()"
      ]
    },
    {
      "cell_type": "code",
      "execution_count": null,
      "metadata": {
        "id": "Mg_6hH1TVXRs"
      },
      "outputs": [],
      "source": [
        "df.total_bedrooms = df.total_bedrooms.fillna(0)"
      ]
    },
    {
      "cell_type": "code",
      "execution_count": null,
      "metadata": {
        "id": "rkVxr14_Vyu6"
      },
      "outputs": [],
      "source": [
        "df['rooms_per_household'] = df.total_rooms / df.households\n",
        "df['bedrooms_per_room'] = df.total_bedrooms / df.total_rooms\n",
        "df['population_per_household'] = df.population / df.households"
      ]
    },
    {
      "cell_type": "markdown",
      "metadata": {
        "id": "ork_lZkOWb7Z"
      },
      "source": [
        "# Question 1\n",
        "\n",
        "What is the most frequent observation (mode) for the column `ocean_proximity`?"
      ]
    },
    {
      "cell_type": "code",
      "execution_count": null,
      "metadata": {
        "colab": {
          "base_uri": "https://localhost:8080/"
        },
        "id": "Z6IJmtJyWgdI",
        "outputId": "d1aaf68a-e8e0-4c1f-ca69-0d12713fbed8"
      },
      "outputs": [
        {
          "data": {
            "text/plain": [
              "0    <1H OCEAN\n",
              "dtype: object"
            ]
          },
          "execution_count": 8,
          "metadata": {},
          "output_type": "execute_result"
        }
      ],
      "source": [
        "df.ocean_proximity.mode()"
      ]
    },
    {
      "cell_type": "markdown",
      "metadata": {
        "id": "NPMHwSfFXBWD"
      },
      "source": [
        "# Split the data\n",
        "\n",
        "* Split your data in train/val/test sets, with 60%/20%/20% distribution.\n",
        "* Use Scikit-Learn for that (the `train_test_split` function) and set the seed to 42.\n",
        "* Make sure that the target value (`median_house_value`) is not in your dataframe."
      ]
    },
    {
      "cell_type": "code",
      "execution_count": null,
      "metadata": {
        "id": "EheJep-8XHVr"
      },
      "outputs": [],
      "source": [
        "def train_val_test_split(df, seed=None):\n",
        "  df_full_train, df_test = train_test_split(df, test_size=0.2, random_state=seed)\n",
        "  df_train, df_val = train_test_split(df_full_train, test_size=0.25, random_state=seed)\n",
        "  return df_train, df_val, df_full_train, df_test"
      ]
    },
    {
      "cell_type": "markdown",
      "metadata": {
        "id": "ZntAzl5pXxC1"
      },
      "source": [
        "# Question 2\n",
        "\n",
        "* Create the [correlation matrix](https://www.google.com/search?q=correlation+matrix) for the numerical features of your train dataset.\n",
        "    - In a correlation matrix, you compute the correlation coefficient between every pair of features in the dataset.\n",
        "* What are the two features that have the biggest correlation in this dataset?"
      ]
    },
    {
      "cell_type": "code",
      "execution_count": null,
      "metadata": {
        "colab": {
          "base_uri": "https://localhost:8080/",
          "height": 454
        },
        "id": "z54To2DPXypi",
        "outputId": "2ab9da6b-f057-47ce-a0c9-71f638505828"
      },
      "outputs": [
        {
          "data": {
            "text/html": [
              "\n",
              "  <div id=\"df-cbd3a645-1135-444c-9933-d765a5c42ef9\">\n",
              "    <div class=\"colab-df-container\">\n",
              "      <div>\n",
              "<style scoped>\n",
              "    .dataframe tbody tr th:only-of-type {\n",
              "        vertical-align: middle;\n",
              "    }\n",
              "\n",
              "    .dataframe tbody tr th {\n",
              "        vertical-align: top;\n",
              "    }\n",
              "\n",
              "    .dataframe thead th {\n",
              "        text-align: right;\n",
              "    }\n",
              "</style>\n",
              "<table border=\"1\" class=\"dataframe\">\n",
              "  <thead>\n",
              "    <tr style=\"text-align: right;\">\n",
              "      <th></th>\n",
              "      <th>longitude</th>\n",
              "      <th>total_rooms</th>\n",
              "      <th>total_bedrooms</th>\n",
              "      <th>latitude</th>\n",
              "      <th>rooms_per_household</th>\n",
              "      <th>housing_median_age</th>\n",
              "      <th>population</th>\n",
              "      <th>population_per_household</th>\n",
              "      <th>bedrooms_per_room</th>\n",
              "      <th>households</th>\n",
              "      <th>median_income</th>\n",
              "    </tr>\n",
              "  </thead>\n",
              "  <tbody>\n",
              "    <tr>\n",
              "      <th>longitude</th>\n",
              "      <td>1.000000</td>\n",
              "      <td>0.044568</td>\n",
              "      <td>0.068082</td>\n",
              "      <td>-0.924664</td>\n",
              "      <td>-0.027540</td>\n",
              "      <td>-0.108197</td>\n",
              "      <td>0.099773</td>\n",
              "      <td>0.002476</td>\n",
              "      <td>0.084836</td>\n",
              "      <td>0.055310</td>\n",
              "      <td>-0.015176</td>\n",
              "    </tr>\n",
              "    <tr>\n",
              "      <th>total_rooms</th>\n",
              "      <td>0.044568</td>\n",
              "      <td>1.000000</td>\n",
              "      <td>0.920196</td>\n",
              "      <td>-0.036100</td>\n",
              "      <td>0.133798</td>\n",
              "      <td>-0.361262</td>\n",
              "      <td>0.857126</td>\n",
              "      <td>-0.024581</td>\n",
              "      <td>-0.174583</td>\n",
              "      <td>0.918484</td>\n",
              "      <td>0.198050</td>\n",
              "    </tr>\n",
              "    <tr>\n",
              "      <th>total_bedrooms</th>\n",
              "      <td>0.068082</td>\n",
              "      <td>0.920196</td>\n",
              "      <td>1.000000</td>\n",
              "      <td>-0.065318</td>\n",
              "      <td>0.002717</td>\n",
              "      <td>-0.317063</td>\n",
              "      <td>0.866266</td>\n",
              "      <td>-0.028019</td>\n",
              "      <td>0.122205</td>\n",
              "      <td>0.966507</td>\n",
              "      <td>-0.007295</td>\n",
              "    </tr>\n",
              "    <tr>\n",
              "      <th>latitude</th>\n",
              "      <td>-0.924664</td>\n",
              "      <td>-0.036100</td>\n",
              "      <td>-0.065318</td>\n",
              "      <td>1.000000</td>\n",
              "      <td>0.106389</td>\n",
              "      <td>0.011173</td>\n",
              "      <td>-0.108785</td>\n",
              "      <td>0.002366</td>\n",
              "      <td>-0.104112</td>\n",
              "      <td>-0.071035</td>\n",
              "      <td>-0.079809</td>\n",
              "    </tr>\n",
              "    <tr>\n",
              "      <th>rooms_per_household</th>\n",
              "      <td>-0.027540</td>\n",
              "      <td>0.133798</td>\n",
              "      <td>0.002717</td>\n",
              "      <td>0.106389</td>\n",
              "      <td>1.000000</td>\n",
              "      <td>-0.153277</td>\n",
              "      <td>-0.072213</td>\n",
              "      <td>-0.004852</td>\n",
              "      <td>-0.387465</td>\n",
              "      <td>-0.080598</td>\n",
              "      <td>0.326895</td>\n",
              "    </tr>\n",
              "    <tr>\n",
              "      <th>housing_median_age</th>\n",
              "      <td>-0.108197</td>\n",
              "      <td>-0.361262</td>\n",
              "      <td>-0.317063</td>\n",
              "      <td>0.011173</td>\n",
              "      <td>-0.153277</td>\n",
              "      <td>1.000000</td>\n",
              "      <td>-0.296244</td>\n",
              "      <td>0.013191</td>\n",
              "      <td>0.125396</td>\n",
              "      <td>-0.302916</td>\n",
              "      <td>-0.119034</td>\n",
              "    </tr>\n",
              "    <tr>\n",
              "      <th>population</th>\n",
              "      <td>0.099773</td>\n",
              "      <td>0.857126</td>\n",
              "      <td>0.866266</td>\n",
              "      <td>-0.108785</td>\n",
              "      <td>-0.072213</td>\n",
              "      <td>-0.296244</td>\n",
              "      <td>1.000000</td>\n",
              "      <td>0.069863</td>\n",
              "      <td>0.031397</td>\n",
              "      <td>0.907222</td>\n",
              "      <td>0.004834</td>\n",
              "    </tr>\n",
              "    <tr>\n",
              "      <th>population_per_household</th>\n",
              "      <td>0.002476</td>\n",
              "      <td>-0.024581</td>\n",
              "      <td>-0.028019</td>\n",
              "      <td>0.002366</td>\n",
              "      <td>-0.004852</td>\n",
              "      <td>0.013191</td>\n",
              "      <td>0.069863</td>\n",
              "      <td>1.000000</td>\n",
              "      <td>0.003047</td>\n",
              "      <td>-0.027309</td>\n",
              "      <td>0.018766</td>\n",
              "    </tr>\n",
              "    <tr>\n",
              "      <th>bedrooms_per_room</th>\n",
              "      <td>0.084836</td>\n",
              "      <td>-0.174583</td>\n",
              "      <td>0.122205</td>\n",
              "      <td>-0.104112</td>\n",
              "      <td>-0.387465</td>\n",
              "      <td>0.125396</td>\n",
              "      <td>0.031397</td>\n",
              "      <td>0.003047</td>\n",
              "      <td>1.000000</td>\n",
              "      <td>0.059818</td>\n",
              "      <td>-0.573836</td>\n",
              "    </tr>\n",
              "    <tr>\n",
              "      <th>households</th>\n",
              "      <td>0.055310</td>\n",
              "      <td>0.918484</td>\n",
              "      <td>0.966507</td>\n",
              "      <td>-0.071035</td>\n",
              "      <td>-0.080598</td>\n",
              "      <td>-0.302916</td>\n",
              "      <td>0.907222</td>\n",
              "      <td>-0.027309</td>\n",
              "      <td>0.059818</td>\n",
              "      <td>1.000000</td>\n",
              "      <td>0.013033</td>\n",
              "    </tr>\n",
              "    <tr>\n",
              "      <th>median_income</th>\n",
              "      <td>-0.015176</td>\n",
              "      <td>0.198050</td>\n",
              "      <td>-0.007295</td>\n",
              "      <td>-0.079809</td>\n",
              "      <td>0.326895</td>\n",
              "      <td>-0.119034</td>\n",
              "      <td>0.004834</td>\n",
              "      <td>0.018766</td>\n",
              "      <td>-0.573836</td>\n",
              "      <td>0.013033</td>\n",
              "      <td>1.000000</td>\n",
              "    </tr>\n",
              "  </tbody>\n",
              "</table>\n",
              "</div>\n",
              "      <button class=\"colab-df-convert\" onclick=\"convertToInteractive('df-cbd3a645-1135-444c-9933-d765a5c42ef9')\"\n",
              "              title=\"Convert this dataframe to an interactive table.\"\n",
              "              style=\"display:none;\">\n",
              "        \n",
              "  <svg xmlns=\"http://www.w3.org/2000/svg\" height=\"24px\"viewBox=\"0 0 24 24\"\n",
              "       width=\"24px\">\n",
              "    <path d=\"M0 0h24v24H0V0z\" fill=\"none\"/>\n",
              "    <path d=\"M18.56 5.44l.94 2.06.94-2.06 2.06-.94-2.06-.94-.94-2.06-.94 2.06-2.06.94zm-11 1L8.5 8.5l.94-2.06 2.06-.94-2.06-.94L8.5 2.5l-.94 2.06-2.06.94zm10 10l.94 2.06.94-2.06 2.06-.94-2.06-.94-.94-2.06-.94 2.06-2.06.94z\"/><path d=\"M17.41 7.96l-1.37-1.37c-.4-.4-.92-.59-1.43-.59-.52 0-1.04.2-1.43.59L10.3 9.45l-7.72 7.72c-.78.78-.78 2.05 0 2.83L4 21.41c.39.39.9.59 1.41.59.51 0 1.02-.2 1.41-.59l7.78-7.78 2.81-2.81c.8-.78.8-2.07 0-2.86zM5.41 20L4 18.59l7.72-7.72 1.47 1.35L5.41 20z\"/>\n",
              "  </svg>\n",
              "      </button>\n",
              "      \n",
              "  <style>\n",
              "    .colab-df-container {\n",
              "      display:flex;\n",
              "      flex-wrap:wrap;\n",
              "      gap: 12px;\n",
              "    }\n",
              "\n",
              "    .colab-df-convert {\n",
              "      background-color: #E8F0FE;\n",
              "      border: none;\n",
              "      border-radius: 50%;\n",
              "      cursor: pointer;\n",
              "      display: none;\n",
              "      fill: #1967D2;\n",
              "      height: 32px;\n",
              "      padding: 0 0 0 0;\n",
              "      width: 32px;\n",
              "    }\n",
              "\n",
              "    .colab-df-convert:hover {\n",
              "      background-color: #E2EBFA;\n",
              "      box-shadow: 0px 1px 2px rgba(60, 64, 67, 0.3), 0px 1px 3px 1px rgba(60, 64, 67, 0.15);\n",
              "      fill: #174EA6;\n",
              "    }\n",
              "\n",
              "    [theme=dark] .colab-df-convert {\n",
              "      background-color: #3B4455;\n",
              "      fill: #D2E3FC;\n",
              "    }\n",
              "\n",
              "    [theme=dark] .colab-df-convert:hover {\n",
              "      background-color: #434B5C;\n",
              "      box-shadow: 0px 1px 3px 1px rgba(0, 0, 0, 0.15);\n",
              "      filter: drop-shadow(0px 1px 2px rgba(0, 0, 0, 0.3));\n",
              "      fill: #FFFFFF;\n",
              "    }\n",
              "  </style>\n",
              "\n",
              "      <script>\n",
              "        const buttonEl =\n",
              "          document.querySelector('#df-cbd3a645-1135-444c-9933-d765a5c42ef9 button.colab-df-convert');\n",
              "        buttonEl.style.display =\n",
              "          google.colab.kernel.accessAllowed ? 'block' : 'none';\n",
              "\n",
              "        async function convertToInteractive(key) {\n",
              "          const element = document.querySelector('#df-cbd3a645-1135-444c-9933-d765a5c42ef9');\n",
              "          const dataTable =\n",
              "            await google.colab.kernel.invokeFunction('convertToInteractive',\n",
              "                                                     [key], {});\n",
              "          if (!dataTable) return;\n",
              "\n",
              "          const docLinkHtml = 'Like what you see? Visit the ' +\n",
              "            '<a target=\"_blank\" href=https://colab.research.google.com/notebooks/data_table.ipynb>data table notebook</a>'\n",
              "            + ' to learn more about interactive tables.';\n",
              "          element.innerHTML = '';\n",
              "          dataTable['output_type'] = 'display_data';\n",
              "          await google.colab.output.renderOutput(dataTable, element);\n",
              "          const docLink = document.createElement('div');\n",
              "          docLink.innerHTML = docLinkHtml;\n",
              "          element.appendChild(docLink);\n",
              "        }\n",
              "      </script>\n",
              "    </div>\n",
              "  </div>\n",
              "  "
            ],
            "text/plain": [
              "                          longitude  total_rooms  total_bedrooms  latitude  \\\n",
              "longitude                  1.000000     0.044568        0.068082 -0.924664   \n",
              "total_rooms                0.044568     1.000000        0.920196 -0.036100   \n",
              "total_bedrooms             0.068082     0.920196        1.000000 -0.065318   \n",
              "latitude                  -0.924664    -0.036100       -0.065318  1.000000   \n",
              "rooms_per_household       -0.027540     0.133798        0.002717  0.106389   \n",
              "housing_median_age        -0.108197    -0.361262       -0.317063  0.011173   \n",
              "population                 0.099773     0.857126        0.866266 -0.108785   \n",
              "population_per_household   0.002476    -0.024581       -0.028019  0.002366   \n",
              "bedrooms_per_room          0.084836    -0.174583        0.122205 -0.104112   \n",
              "households                 0.055310     0.918484        0.966507 -0.071035   \n",
              "median_income             -0.015176     0.198050       -0.007295 -0.079809   \n",
              "\n",
              "                          rooms_per_household  housing_median_age  population  \\\n",
              "longitude                           -0.027540           -0.108197    0.099773   \n",
              "total_rooms                          0.133798           -0.361262    0.857126   \n",
              "total_bedrooms                       0.002717           -0.317063    0.866266   \n",
              "latitude                             0.106389            0.011173   -0.108785   \n",
              "rooms_per_household                  1.000000           -0.153277   -0.072213   \n",
              "housing_median_age                  -0.153277            1.000000   -0.296244   \n",
              "population                          -0.072213           -0.296244    1.000000   \n",
              "population_per_household            -0.004852            0.013191    0.069863   \n",
              "bedrooms_per_room                   -0.387465            0.125396    0.031397   \n",
              "households                          -0.080598           -0.302916    0.907222   \n",
              "median_income                        0.326895           -0.119034    0.004834   \n",
              "\n",
              "                          population_per_household  bedrooms_per_room  \\\n",
              "longitude                                 0.002476           0.084836   \n",
              "total_rooms                              -0.024581          -0.174583   \n",
              "total_bedrooms                           -0.028019           0.122205   \n",
              "latitude                                  0.002366          -0.104112   \n",
              "rooms_per_household                      -0.004852          -0.387465   \n",
              "housing_median_age                        0.013191           0.125396   \n",
              "population                                0.069863           0.031397   \n",
              "population_per_household                  1.000000           0.003047   \n",
              "bedrooms_per_room                         0.003047           1.000000   \n",
              "households                               -0.027309           0.059818   \n",
              "median_income                             0.018766          -0.573836   \n",
              "\n",
              "                          households  median_income  \n",
              "longitude                   0.055310      -0.015176  \n",
              "total_rooms                 0.918484       0.198050  \n",
              "total_bedrooms              0.966507      -0.007295  \n",
              "latitude                   -0.071035      -0.079809  \n",
              "rooms_per_household        -0.080598       0.326895  \n",
              "housing_median_age         -0.302916      -0.119034  \n",
              "population                  0.907222       0.004834  \n",
              "population_per_household   -0.027309       0.018766  \n",
              "bedrooms_per_room           0.059818      -0.573836  \n",
              "households                  1.000000       0.013033  \n",
              "median_income               0.013033       1.000000  "
            ]
          },
          "execution_count": 10,
          "metadata": {},
          "output_type": "execute_result"
        }
      ],
      "source": [
        "df[list(set(features) - set(['ocean_proximity']))].corr()"
      ]
    },
    {
      "cell_type": "markdown",
      "metadata": {
        "id": "2ycTSGlugpv_"
      },
      "source": [
        "total_bedrooms - households: 0.97  "
      ]
    },
    {
      "cell_type": "markdown",
      "metadata": {
        "id": "b0ZJLdn2hSpC"
      },
      "source": [
        "# Make `median_house_value` binary\n",
        "\n",
        "* We need to turn the `median_house_value` variable from numeric into binary.\n",
        "* Let's create a variable `above_average` which is `1` if the `median_house_value` is above its mean value and `0` otherwise."
      ]
    },
    {
      "cell_type": "code",
      "execution_count": null,
      "metadata": {
        "id": "zEvUzqimhZ0e"
      },
      "outputs": [],
      "source": [
        "df['above_average'] = df['median_house_value'] > df['median_house_value'].mean()\n",
        "df = df.astype({'above_average': 'int16'})"
      ]
    },
    {
      "cell_type": "markdown",
      "metadata": {
        "id": "G9NHkWlQrTLX"
      },
      "source": [
        "# Split the data\n",
        "\n",
        "* Shuffle the initial dataset, use seed `42`.\n",
        "* Split your data in train/val/test sets, with 60%/20%/20% distribution.\n",
        "* Make sure that the target value ('median_house_value') is not in your dataframe.\n",
        "* Apply the log transformation to the median_house_value variable using the `np.log1p()` function.\n"
      ]
    },
    {
      "cell_type": "code",
      "execution_count": null,
      "metadata": {
        "id": "5dvl5ARS_lVK"
      },
      "outputs": [],
      "source": [
        "def train_val_test_split(df, val_split=0.2, test_split=0.2, seed=None):\n",
        "\n",
        "  # train_split = 1 - val_split - test_split\n",
        "\n",
        "  # create splits\n",
        "  df_full_train, df_test = train_test_split(df, test_size=test_split, random_state=seed)\n",
        "  df_train, df_val = train_test_split(df_full_train, test_size=val_split/(1-test_split), random_state=seed)\n",
        "\n",
        "  # return\n",
        "  return (df_train, df_val, df_full_train, df_test)"
      ]
    },
    {
      "cell_type": "code",
      "execution_count": null,
      "metadata": {
        "id": "AULcPkIyiB9m"
      },
      "outputs": [],
      "source": [
        "df_train, df_val, df_full_train, df_test = train_val_test_split(df, seed=42)"
      ]
    },
    {
      "cell_type": "markdown",
      "metadata": {
        "id": "yxXEkrm3h_YG"
      },
      "source": [
        "# Question 3\n",
        "\n",
        "* Calculate the mutual information score with the (binarized) price for the categorical variable that we have. Use the training set only.\n",
        "* What is the value of mutual information?\n",
        "* Round it to 2 decimal digits using `round(score, 2)`"
      ]
    },
    {
      "cell_type": "code",
      "execution_count": 28,
      "metadata": {
        "colab": {
          "base_uri": "https://localhost:8080/"
        },
        "id": "OHqBVIgYU3ZU",
        "outputId": "e9e0e45f-679a-4831-cf0b-1977f79b3ea0"
      },
      "outputs": [
        {
          "output_type": "execute_result",
          "data": {
            "text/plain": [
              "0.1"
            ]
          },
          "metadata": {},
          "execution_count": 28
        }
      ],
      "source": [
        "round(mutual_info_score(df_train.above_average, df_train.ocean_proximity), 2)"
      ]
    },
    {
      "cell_type": "markdown",
      "metadata": {
        "id": "5FfO02ByVlgN"
      },
      "source": [
        "# Question 4\n",
        "\n",
        "* Now let's train a logistic regression\n",
        "* Remember that we have one categorical variable `ocean_proximity` in the data. Include it using one-hot encoding.\n",
        "* Fit the model on the training dataset.\n",
        "    - To make sure the results are reproducible across different versions of Scikit-Learn, fit the model with these parameters:\n",
        "    - `model = LogisticRegression(solver=\"liblinear\", C=1.0, max_iter=1000, random_state=42)`\n",
        "* Calculate the accuracy on the validation dataset and round it to 2 decimal digits.\n"
      ]
    },
    {
      "cell_type": "code",
      "execution_count": null,
      "metadata": {
        "id": "kww0PqjLbvxT"
      },
      "outputs": [],
      "source": [
        "def prepare(dv, df, features, target):\n",
        "\n",
        "  feat_dict = df[features].to_dict(orient='records')\n",
        "  \n",
        "  try:\n",
        "    check_is_fitted(dv, attributes='feature_names_')\n",
        "  except NotFittedError as e:\n",
        "    dv.fit(feat_dict)\n",
        "  \n",
        "  X = dv.transform(feat_dict)\n",
        "  y = df[target].values\n",
        "\n",
        "  return (X, y)"
      ]
    },
    {
      "cell_type": "code",
      "execution_count": null,
      "metadata": {
        "id": "oGxbcSubVrpG"
      },
      "outputs": [],
      "source": [
        "dv = DictVectorizer(sparse=False)\n",
        "\n",
        "X_train, y_train = prepare(dv, df_train, features, target)\n",
        "X_val, y_val = prepare(dv, df_val, features, target)"
      ]
    },
    {
      "cell_type": "code",
      "execution_count": null,
      "metadata": {
        "colab": {
          "base_uri": "https://localhost:8080/"
        },
        "id": "GIxXFV9YXzJS",
        "outputId": "9659b9ef-8314-4eb6-dc28-38f7973bc2f7"
      },
      "outputs": [
        {
          "data": {
            "text/plain": [
              "LogisticRegression(max_iter=1000, random_state=42, solver='liblinear')"
            ]
          },
          "execution_count": 17,
          "metadata": {},
          "output_type": "execute_result"
        }
      ],
      "source": [
        "model = LogisticRegression(solver=\"liblinear\", C=1.0, max_iter=1000, random_state=42)\n",
        "model.fit(X_train, y_train)"
      ]
    },
    {
      "cell_type": "code",
      "execution_count": null,
      "metadata": {
        "colab": {
          "base_uri": "https://localhost:8080/"
        },
        "id": "i15oIRjzYDgB",
        "outputId": "9f7ffeee-ba59-406d-f844-3d1b1a42442f"
      },
      "outputs": [
        {
          "data": {
            "text/plain": [
              "0.8355135658914729"
            ]
          },
          "execution_count": 18,
          "metadata": {},
          "output_type": "execute_result"
        }
      ],
      "source": [
        "y_pred = model.predict_proba(X_val)[:, 1]\n",
        "above_average_pred = (y_pred >= 0.5)\n",
        "# Accuracy\n",
        "(y_val == above_average_pred).mean()"
      ]
    },
    {
      "cell_type": "markdown",
      "metadata": {
        "id": "LFbuN9oqbYKu"
      },
      "source": [
        "# Question 5 \n",
        "\n",
        "* Let's find the least useful feature using the *feature elimination* technique.\n",
        "* Train a model with all these features (using the same parameters as in Q4).\n",
        "* Now exclude each feature from this set and train a model without it. Record the accuracy for each model.\n",
        "* For each feature, calculate the difference between the original accuracy and the accuracy without the feature. \n",
        "* Which of following feature has the smallest difference? \n",
        "   * `total_rooms`\n",
        "   * `total_bedrooms` \n",
        "   * `population`\n",
        "   * `households`\n",
        "\n",
        "> **note**: the difference doesn't have to be positive\n"
      ]
    },
    {
      "cell_type": "code",
      "execution_count": null,
      "metadata": {
        "id": "YK3iT9UKcPPq"
      },
      "outputs": [],
      "source": [
        "exclude_features = ['total_rooms', 'total_bedrooms', 'population', 'households']\n",
        "excluded = exclude_features[1]"
      ]
    },
    {
      "cell_type": "code",
      "source": [
        "features_small = list(set(features).difference({excluded}))\n",
        "\n"
      ],
      "metadata": {
        "colab": {
          "base_uri": "https://localhost:8080/"
        },
        "id": "Tus4nu0Zf12p",
        "outputId": "71095acc-26cc-4816-ae69-4a0713e093ff"
      },
      "execution_count": 38,
      "outputs": [
        {
          "output_type": "execute_result",
          "data": {
            "text/plain": [
              "['longitude',\n",
              " 'total_rooms',\n",
              " 'latitude',\n",
              " 'rooms_per_household',\n",
              " 'ocean_proximity',\n",
              " 'housing_median_age',\n",
              " 'population',\n",
              " 'population_per_household',\n",
              " 'bedrooms_per_room',\n",
              " 'households',\n",
              " 'median_income']"
            ]
          },
          "metadata": {},
          "execution_count": 38
        }
      ]
    },
    {
      "cell_type": "code",
      "source": [
        "excluded"
      ],
      "metadata": {
        "colab": {
          "base_uri": "https://localhost:8080/",
          "height": 38
        },
        "id": "ytKSVNXpey5l",
        "outputId": "07cb2025-00af-4d6b-c067-9cd0be7ceea2"
      },
      "execution_count": 31,
      "outputs": [
        {
          "output_type": "execute_result",
          "data": {
            "text/plain": [
              "'total_bedrooms'"
            ],
            "application/vnd.google.colaboratory.intrinsic+json": {
              "type": "string"
            }
          },
          "metadata": {},
          "execution_count": 31
        }
      ]
    },
    {
      "cell_type": "code",
      "execution_count": null,
      "metadata": {
        "colab": {
          "base_uri": "https://localhost:8080/"
        },
        "id": "wykasbQZbhK4",
        "outputId": "0d592167-cfc2-4898-84ba-a65030d2fbf2"
      },
      "outputs": [
        {
          "data": {
            "text/plain": [
              "{'bedrooms_per_room': 0.73,\n",
              " 'households': 0.004,\n",
              " 'housing_median_age': 0.036,\n",
              " 'latitude': 0.109,\n",
              " 'longitude': 0.084,\n",
              " 'median_income': 1.219,\n",
              " 'ocean_proximity=<1H OCEAN': 0.408,\n",
              " 'ocean_proximity=INLAND': -1.716,\n",
              " 'ocean_proximity=ISLAND': 0.076,\n",
              " 'ocean_proximity=NEAR BAY': 0.226,\n",
              " 'ocean_proximity=NEAR OCEAN': 0.76,\n",
              " 'population': -0.002,\n",
              " 'population_per_household': 0.01,\n",
              " 'rooms_per_household': -0.016,\n",
              " 'total_bedrooms': 0.002,\n",
              " 'total_rooms': -0.0}"
            ]
          },
          "execution_count": 20,
          "metadata": {},
          "output_type": "execute_result"
        }
      ],
      "source": [
        "dict(zip(dv.get_feature_names_out(), model.coef_[0].round(3)))"
      ]
    },
    {
      "cell_type": "code",
      "execution_count": null,
      "metadata": {
        "id": "gdzqJB8Vb0nv"
      },
      "outputs": [],
      "source": [
        "df_full_train[numerical].corrwith(df_full_train.churn)"
      ]
    }
  ],
  "metadata": {
    "colab": {
      "collapsed_sections": [],
      "provenance": [],
      "authorship_tag": "ABX9TyPWeuwzT9q+gIKjePoU9Uhx"
    },
    "kernelspec": {
      "display_name": "Python 3",
      "name": "python3"
    },
    "language_info": {
      "name": "python"
    }
  },
  "nbformat": 4,
  "nbformat_minor": 0
}