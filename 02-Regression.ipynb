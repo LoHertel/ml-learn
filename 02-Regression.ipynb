{
  "nbformat": 4,
  "nbformat_minor": 0,
  "metadata": {
    "colab": {
      "provenance": [],
      "collapsed_sections": [],
      "authorship_tag": "ABX9TyMFm12lXCumG4VV0kVyPN1R"
    },
    "kernelspec": {
      "name": "python3",
      "display_name": "Python 3"
    },
    "language_info": {
      "name": "python"
    }
  },
  "cells": [
    {
      "cell_type": "markdown",
      "source": [
        "## Homework\n",
        "\n",
        "### Dataset\n",
        "\n",
        "In this homework, we will use the California Housing Prices. You can take it from\n",
        "[Kaggle](https://www.kaggle.com/datasets/camnugent/california-housing-prices).\n",
        "\n",
        "The goal of this homework is to create a regression model for predicting housing prices (column `'median_house_value'`)."
      ],
      "metadata": {
        "id": "TwqH8S_zh3TV"
      }
    },
    {
      "cell_type": "code",
      "source": [
        "!wget https://raw.githubusercontent.com/alexeygrigorev/datasets/master/housing.csv"
      ],
      "metadata": {
        "colab": {
          "base_uri": "https://localhost:8080/"
        },
        "id": "RcqQrT4J4qnn",
        "outputId": "dacc9c72-877d-4a23-ff42-bbc13ba7d9da"
      },
      "execution_count": 1,
      "outputs": [
        {
          "output_type": "stream",
          "name": "stdout",
          "text": [
            "--2022-09-19 14:43:37--  https://raw.githubusercontent.com/alexeygrigorev/datasets/master/housing.csv\n",
            "Resolving raw.githubusercontent.com (raw.githubusercontent.com)... 185.199.110.133, 185.199.111.133, 185.199.108.133, ...\n",
            "Connecting to raw.githubusercontent.com (raw.githubusercontent.com)|185.199.110.133|:443... connected.\n",
            "HTTP request sent, awaiting response... 200 OK\n",
            "Length: 1423529 (1.4M) [text/plain]\n",
            "Saving to: ‘housing.csv’\n",
            "\n",
            "housing.csv         100%[===================>]   1.36M  --.-KB/s    in 0.1s    \n",
            "\n",
            "2022-09-19 14:43:37 (10.3 MB/s) - ‘housing.csv’ saved [1423529/1423529]\n",
            "\n"
          ]
        }
      ]
    },
    {
      "cell_type": "code",
      "source": [
        "import pandas as pd\n",
        "import numpy as np"
      ],
      "metadata": {
        "id": "LR9Inr2cn3P1"
      },
      "execution_count": 2,
      "outputs": []
    },
    {
      "cell_type": "markdown",
      "source": [
        "# EDA\n",
        "\n",
        "* Load the data.\n",
        "* Look at the `median_house_value` variable. Does it have a long tail? "
      ],
      "metadata": {
        "id": "QPHmuFRVoRbS"
      }
    },
    {
      "cell_type": "code",
      "source": [
        "df = pd.read_csv('housing.csv')"
      ],
      "metadata": {
        "id": "vHNP2qS6n7Q4"
      },
      "execution_count": 3,
      "outputs": []
    },
    {
      "cell_type": "code",
      "source": [
        "df.median_house_value.hist()"
      ],
      "metadata": {
        "colab": {
          "base_uri": "https://localhost:8080/",
          "height": 283
        },
        "id": "yTP67aSIoGfh",
        "outputId": "dc52df1e-b18a-4a4c-b52c-e152695e136b"
      },
      "execution_count": 4,
      "outputs": [
        {
          "output_type": "execute_result",
          "data": {
            "text/plain": [
              "<matplotlib.axes._subplots.AxesSubplot at 0x7fc0f77f2090>"
            ]
          },
          "metadata": {},
          "execution_count": 4
        },
        {
          "output_type": "display_data",
          "data": {
            "text/plain": [
              "<Figure size 432x288 with 1 Axes>"
            ],
            "image/png": "[encoded data removed]"
          },
          "metadata": {
            "needs_background": "light"
          }
        }
      ]
    },
    {
      "cell_type": "markdown",
      "source": [
        "# Features\n",
        "\n",
        "For the rest of the homework, you'll need to use only these columns:\n",
        "\n",
        "* `'latitude'`,\n",
        "* `'longitude'`,\n",
        "* `'housing_median_age'`,\n",
        "* `'total_rooms'`,\n",
        "* `'total_bedrooms'`,\n",
        "* `'population'`,\n",
        "* `'households'`,\n",
        "* `'median_income'`,\n",
        "* `'median_house_value'`\n",
        "\n",
        "Select only them."
      ],
      "metadata": {
        "id": "ZnXy3DUZpSXy"
      }
    },
    {
      "cell_type": "code",
      "source": [
        "features = ['latitude', 'longitude', 'housing_median_age', 'total_rooms', 'total_bedrooms', 'population', 'households', 'median_income']\n",
        "target = ['median_house_value']"
      ],
      "metadata": {
        "id": "HkOxX8BUpfUS"
      },
      "execution_count": 5,
      "outputs": []
    },
    {
      "cell_type": "markdown",
      "source": [
        "# Question 1\n",
        "\n",
        "Find a feature with missing values. How many missing values does it have?"
      ],
      "metadata": {
        "id": "hwrAUzyZpZ_S"
      }
    },
    {
      "cell_type": "code",
      "source": [
        "df[features + target].isnull().sum()"
      ],
      "metadata": {
        "colab": {
          "base_uri": "https://localhost:8080/"
        },
        "id": "cuqGcYVLpbeo",
        "outputId": "1fa7d5bd-b977-4ffa-b128-930005913658"
      },
      "execution_count": 6,
      "outputs": [
        {
          "output_type": "execute_result",
          "data": {
            "text/plain": [
              "latitude                0\n",
              "longitude               0\n",
              "housing_median_age      0\n",
              "total_rooms             0\n",
              "total_bedrooms        207\n",
              "population              0\n",
              "households              0\n",
              "median_income           0\n",
              "median_house_value      0\n",
              "dtype: int64"
            ]
          },
          "metadata": {},
          "execution_count": 6
        }
      ]
    },
    {
      "cell_type": "markdown",
      "source": [
        "# Question 2\n",
        "\n",
        "What's the median (50% percentile) for variable 'population'?"
      ],
      "metadata": {
        "id": "Pae-8l1ArBO3"
      }
    },
    {
      "cell_type": "code",
      "source": [
        "df.population.median()"
      ],
      "metadata": {
        "colab": {
          "base_uri": "https://localhost:8080/"
        },
        "id": "izl1i5psrCZO",
        "outputId": "88eeba3d-7fb3-49d2-c3b1-2965622ea210"
      },
      "execution_count": 7,
      "outputs": [
        {
          "output_type": "execute_result",
          "data": {
            "text/plain": [
              "1166.0"
            ]
          },
          "metadata": {},
          "execution_count": 7
        }
      ]
    },
    {
      "cell_type": "markdown",
      "source": [
        "# Split the data\n",
        "\n",
        "* Shuffle the initial dataset, use seed `42`.\n",
        "* Split your data in train/val/test sets, with 60%/20%/20% distribution.\n",
        "* Make sure that the target value ('median_house_value') is not in your dataframe.\n",
        "* Apply the log transformation to the median_house_value variable using the `np.log1p()` function.\n"
      ],
      "metadata": {
        "id": "G9NHkWlQrTLX"
      }
    },
    {
      "cell_type": "code",
      "source": [
        "def create_split(df, features, target, val_split=0.2, test_split=0.2, seed=None):\n",
        "\n",
        "  # shuffle index\n",
        "  np.random.seed(seed)\n",
        "  idx = np.array(df.index)\n",
        "  np.random.shuffle(idx)\n",
        "\n",
        "  # split index (default 60% train, 20% validation, 20% test)\n",
        "  train_split = 1 - val_split - test_split\n",
        "  split_size = (idx.size * np.array([train_split, train_split+val_split])).astype(np.int32)\n",
        "  idx_split = np.split(idx, split_size)\n",
        "\n",
        "  # create X\n",
        "  X_train = df.iloc[idx_split[0]][features].copy().reset_index(drop=True)\n",
        "  X_val = df.iloc[idx_split[1]][features].copy().reset_index(drop=True)\n",
        "  X_test = df.iloc[idx_split[2]][features].copy().reset_index(drop=True)\n",
        "\n",
        "  # create y\n",
        "  y_train = np.log1p(df.iloc[idx_split[0]][target].values)\n",
        "  y_val = np.log1p(df.iloc[idx_split[1]][target].values)\n",
        "  y_test = np.log1p(df.iloc[idx_split[2]][target].values)\n",
        "\n",
        "  # return\n",
        "  return (X_train, X_val, X_test, y_train, y_val, y_test)"
      ],
      "metadata": {
        "id": "5dvl5ARS_lVK"
      },
      "execution_count": 8,
      "outputs": []
    },
    {
      "cell_type": "markdown",
      "source": [
        "# Question 3\n",
        "\n",
        "* We need to deal with missing values for the column from Q1.\n",
        "* We have two options: fill it with 0 or with the mean of this variable.\n",
        "* Try both options. For each, train a linear regression model without regularization using the code from the lessons.\n",
        "* For computing the mean, use the training only!\n",
        "* Use the validation dataset to evaluate the models and compare the RMSE of each option.\n",
        "* Round the RMSE scores to 2 decimal digits using `round(score, 2)`\n",
        "* Which option gives better RMSE?\n",
        "\n",
        "Options:\n",
        "- With 0\n",
        "- With mean\n",
        "- With median\n",
        "- Both are equally good"
      ],
      "metadata": {
        "id": "hnoXzxva9QfC"
      }
    },
    {
      "cell_type": "code",
      "source": [
        "def train_linear_regression(X, y):\n",
        "    ones = np.ones(X.shape[0])\n",
        "    X = np.column_stack([ones, X])\n",
        "\n",
        "    XTX = X.T.dot(X)\n",
        "    XTX_inv = np.linalg.inv(XTX)\n",
        "    w = XTX_inv.dot(X.T).dot(y)\n",
        "    \n",
        "    return w[0], w[1:]"
      ],
      "metadata": {
        "id": "6pP2-ByG5zbA"
      },
      "execution_count": 9,
      "outputs": []
    },
    {
      "cell_type": "code",
      "source": [
        "def rmse(y, y_pred):\n",
        "    error = y_pred - y\n",
        "    mse = (error ** 2).mean()\n",
        "    return np.sqrt(mse)"
      ],
      "metadata": {
        "id": "hli2MUEO5z6J"
      },
      "execution_count": 10,
      "outputs": []
    },
    {
      "cell_type": "code",
      "source": [
        "# Option 0\n",
        "df_0 = df.copy().fillna(0)\n",
        "X_train, X_val, X_test, y_train, y_val, y_test = create_split(df_0, features, target, seed=42)\n",
        "\n",
        "w_0, w = train_linear_regression(X_train, y_train)\n",
        "\n",
        "y_pred = w_0 + X_val.dot(w)\n",
        "print('validation', round(rmse(y_val, y_pred), 2))\n"
      ],
      "metadata": {
        "id": "iWzFLFY39awn",
        "colab": {
          "base_uri": "https://localhost:8080/"
        },
        "outputId": "e1810cc4-1ef7-4ac9-c872-279263e9517d"
      },
      "execution_count": 11,
      "outputs": [
        {
          "output_type": "stream",
          "name": "stdout",
          "text": [
            "validation 0    0.33\n",
            "dtype: float64\n"
          ]
        }
      ]
    },
    {
      "cell_type": "code",
      "source": [
        "# Option median\n",
        "X_train, X_val, X_test, y_train, y_val, y_test = create_split(df, features, target, seed=42)\n",
        "X_train['total_bedrooms'] = X_train.total_bedrooms.fillna(X_train.total_bedrooms.median())\n",
        "\n",
        "w_0, w = train_linear_regression(X_train, y_train)\n",
        "\n",
        "y_pred = w_0 + X_val.dot(w)\n",
        "print('validation', round(rmse(y_val, y_pred), 2))"
      ],
      "metadata": {
        "id": "U0dDWmzKCxD1",
        "colab": {
          "base_uri": "https://localhost:8080/"
        },
        "outputId": "bd1af4d6-6843-47fe-f250-06b29e2c25c7"
      },
      "execution_count": 12,
      "outputs": [
        {
          "output_type": "stream",
          "name": "stdout",
          "text": [
            "validation 0    0.33\n",
            "dtype: float64\n"
          ]
        }
      ]
    },
    {
      "cell_type": "code",
      "source": [
        "# Option mean\n",
        "X_train, X_val, X_test, y_train, y_val, y_test = create_split(df, features, target, seed=42)\n",
        "X_train['total_bedrooms'] = X_train.total_bedrooms.fillna(X_train.total_bedrooms.mean())\n",
        "\n",
        "w_0, w = train_linear_regression(X_train, y_train)\n",
        "\n",
        "y_pred = w_0 + X_val.dot(w)\n",
        "print('validation', round(rmse(y_val, y_pred), 2))"
      ],
      "metadata": {
        "colab": {
          "base_uri": "https://localhost:8080/"
        },
        "id": "gKy05bV8CPyD",
        "outputId": "1b7e4632-5306-4fd4-f7fd-b34d1491e804"
      },
      "execution_count": 13,
      "outputs": [
        {
          "output_type": "stream",
          "name": "stdout",
          "text": [
            "validation 0    0.33\n",
            "dtype: float64\n"
          ]
        }
      ]
    },
    {
      "cell_type": "markdown",
      "source": [
        "# Question 4\n",
        "\n",
        "* Now let's train a regularized linear regression.\n",
        "* For this question, fill the NAs with 0. \n",
        "* Try different values of `r` from this list: `[0, 0.000001, 0.0001, 0.001, 0.01, 0.1, 1, 5, 10]`.\n",
        "* Use RMSE to evaluate the model on the validation dataset.\n",
        "* Round the RMSE scores to 2 decimal digits.\n",
        "* Which `r` gives the best RMSE?\n",
        "\n",
        "If there are multiple options, select the smallest `r`."
      ],
      "metadata": {
        "id": "oWNTtw2yCfWu"
      }
    },
    {
      "cell_type": "code",
      "source": [
        "def train_linear_regression_reg(X, y, r=0.0):\n",
        "    ones = np.ones(X.shape[0])\n",
        "    X = np.column_stack([ones, X])\n",
        "\n",
        "    XTX = X.T.dot(X)\n",
        "    reg = r * np.eye(XTX.shape[0])\n",
        "    XTX = XTX + reg\n",
        "\n",
        "    XTX_inv = np.linalg.inv(XTX)\n",
        "    w = XTX_inv.dot(X.T).dot(y)\n",
        "    \n",
        "    return w[0], w[1:]"
      ],
      "metadata": {
        "id": "fEugoaoWCqFx"
      },
      "execution_count": null,
      "outputs": []
    },
    {
      "cell_type": "code",
      "source": [
        "df_0 = df.copy().fillna(0)\n",
        "X_train, X_val, X_test, y_train, y_val, y_test = create_split(df_0, features, target, seed=42)"
      ],
      "metadata": {
        "id": "7UE7mAvHFwHX"
      },
      "execution_count": null,
      "outputs": []
    },
    {
      "cell_type": "code",
      "source": [
        "for r in [0, 0.000001, 0.0001, 0.001, 0.01, 0.1, 1, 5, 10]:\n",
        "    w_0, w = train_linear_regression_reg(X_train, y_train, r=r)\n",
        "    y_pred = w_0 + X_val.dot(w)\n",
        "    print('r:', r, '\\t', 'rmse:', round(rmse(y_val, y_pred)[0], 2))"
      ],
      "metadata": {
        "colab": {
          "base_uri": "https://localhost:8080/"
        },
        "id": "RPIxVbVlC2JR",
        "outputId": "c215d906-540a-4ae4-a748-cd7361f8d078"
      },
      "execution_count": null,
      "outputs": [
        {
          "output_type": "stream",
          "name": "stdout",
          "text": [
            "r: 0 \t rmse: 0.33\n",
            "r: 1e-06 \t rmse: 0.33\n",
            "r: 0.0001 \t rmse: 0.33\n",
            "r: 0.001 \t rmse: 0.33\n",
            "r: 0.01 \t rmse: 0.33\n",
            "r: 0.1 \t rmse: 0.33\n",
            "r: 1 \t rmse: 0.33\n",
            "r: 5 \t rmse: 0.34\n",
            "r: 10 \t rmse: 0.34\n"
          ]
        }
      ]
    },
    {
      "cell_type": "markdown",
      "source": [
        "# Question 5 \n",
        "\n",
        "* We used seed 42 for splitting the data. Let's find out how selecting the seed influences our score.\n",
        "* Try different seed values: `[0, 1, 2, 3, 4, 5, 6, 7, 8, 9]`.\n",
        "* For each seed, do the train/validation/test split with 60%/20%/20% distribution.\n",
        "* Fill the missing values with 0 and train a model without regularization.\n",
        "* For each seed, evaluate the model on the validation dataset and collect the RMSE scores. \n",
        "* What's the standard deviation of all the scores? To compute the standard deviation, use `np.std`.\n",
        "* Round the result to 3 decimal digits (`round(std, 3)`)\n",
        "\n",
        "> Note: Standard deviation shows how different the values are.\n",
        "> If it's low, then all values are approximately the same.\n",
        "> If it's high, the values are different. \n",
        "> If standard deviation of scores is low, then our model is *stable*."
      ],
      "metadata": {
        "id": "VJvBkzWkIBvM"
      }
    },
    {
      "cell_type": "code",
      "source": [
        "df_0 = df.copy().fillna(0)\n",
        "score = {}\n",
        "\n",
        "for s in range(10):\n",
        "  X_train, X_val, X_test, y_train, y_val, y_test = create_split(df_0, features, target, seed=s)\n",
        "  w_0, w = train_linear_regression(X_train, y_train)\n",
        "  \n",
        "  y_pred = w_0 + X_val.dot(w)\n",
        "\n",
        "  score[s] = rmse(y_val, y_pred)[0]\n",
        "\n",
        "  print('seed:', s, '\\t', 'rmse:', score[s])\n",
        "\n",
        "print('std:', round(np.std(list(score.values())), 3))"
      ],
      "metadata": {
        "colab": {
          "base_uri": "https://localhost:8080/"
        },
        "id": "vmvypj62IUyd",
        "outputId": "7c903847-697b-40b1-a0df-b7baf58487a2"
      },
      "execution_count": null,
      "outputs": [
        {
          "output_type": "stream",
          "name": "stdout",
          "text": [
            "seed: 0 \t rmse: 0.3388430480530326\n",
            "seed: 1 \t rmse: 0.33623872559566276\n",
            "seed: 2 \t rmse: 0.3320912318833194\n",
            "seed: 3 \t rmse: 0.34051536090377893\n",
            "seed: 4 \t rmse: 0.33890240665742954\n",
            "seed: 5 \t rmse: 0.34348667257187443\n",
            "seed: 6 \t rmse: 0.34519809530991635\n",
            "seed: 7 \t rmse: 0.3395989927407549\n",
            "seed: 8 \t rmse: 0.34662308731992736\n",
            "seed: 9 \t rmse: 0.3365926124190451\n",
            "std: 0.00417077\n"
          ]
        }
      ]
    },
    {
      "cell_type": "markdown",
      "source": [
        "# Question 6\n",
        "\n",
        "* Split the dataset like previously, use seed 9.\n",
        "* Combine train and validation datasets.\n",
        "* Fill the missing values with 0 and train a model with `r=0.001`. \n",
        "* What's the RMSE on the test dataset?"
      ],
      "metadata": {
        "id": "dGx-RgJmLpHq"
      }
    },
    {
      "cell_type": "code",
      "source": [
        "df_0 = df.copy().fillna(0)\n",
        "X_train, X_val, X_test, y_train, y_val, y_test = create_split(df_0, features, target, seed=9)\n",
        "\n",
        "X_full_train = pd.concat([X_train, X_val], ignore_index=True)\n",
        "y_full_train = np.concatenate((y_train, y_val))\n",
        "\n",
        "w_0, w = train_linear_regression_reg(X_full_train, y_full_train, r=0.001)\n",
        "\n",
        "y_pred = w_0 + X_val.dot(w)\n",
        "print('test', rmse(y_test, y_pred)[0])"
      ],
      "metadata": {
        "colab": {
          "base_uri": "https://localhost:8080/"
        },
        "id": "Z1aivxaTMK8M",
        "outputId": "cc7ca536-8f3d-4971-b17a-3bc9fae0002c"
      },
      "execution_count": null,
      "outputs": [
        {
          "output_type": "stream",
          "name": "stdout",
          "text": [
            "test 0.730124780462471\n"
          ]
        }
      ]
    }
  ]
}