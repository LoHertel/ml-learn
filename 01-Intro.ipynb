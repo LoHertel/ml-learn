{
  "nbformat": 4,
  "nbformat_minor": 0,
  "metadata": {
    "colab": {
      "provenance": [],
      "authorship_tag": "ABX9TyNOhpjLtme36CW51od++7ek"
    },
    "kernelspec": {
      "name": "python3",
      "display_name": "Python 3"
    },
    "language_info": {
      "name": "python"
    }
  },
  "cells": [
    {
      "cell_type": "code",
      "source": [
        "import pandas as pd\n",
        "import numpy as np"
      ],
      "metadata": {
        "id": "iVbMdbthOMQZ"
      },
      "execution_count": 6,
      "outputs": []
    },
    {
      "cell_type": "markdown",
      "source": [
        "# Question 1\n",
        "What's the version of NumPy that you installed?\n",
        "\n",
        "You can get the version information using the __version__ field:"
      ],
      "metadata": {
        "id": "oKR4-DUOeVzY"
      }
    },
    {
      "cell_type": "code",
      "source": [
        "np.__version__"
      ],
      "metadata": {
        "id": "SFDv6ly5OQ5S",
        "outputId": "19695eff-732c-4c1d-d99e-84ae7bd0d64f",
        "colab": {
          "base_uri": "https://localhost:8080/",
          "height": 38
        }
      },
      "execution_count": 2,
      "outputs": [
        {
          "output_type": "execute_result",
          "data": {
            "text/plain": [
              "'1.21.6'"
            ],
            "application/vnd.google.colaboratory.intrinsic+json": {
              "type": "string"
            }
          },
          "metadata": {},
          "execution_count": 2
        }
      ]
    },
    {
      "cell_type": "markdown",
      "source": [
        "# Getting the data\n",
        "\n",
        "For this homework, we'll use the Car price dataset. "
      ],
      "metadata": {
        "id": "4pBBzstfeuqT"
      }
    },
    {
      "cell_type": "code",
      "source": [
        "!wget https://raw.githubusercontent.com/alexeygrigorev/mlbookcamp-code/master/chapter-02-car-price/data.csv"
      ],
      "metadata": {
        "colab": {
          "base_uri": "https://localhost:8080/"
        },
        "id": "yeyezcGJXOVH",
        "outputId": "6e5e99ca-4906-46cc-eede-ff18e7bf8ef2"
      },
      "execution_count": 5,
      "outputs": [
        {
          "output_type": "stream",
          "name": "stdout",
          "text": [
            "--2022-09-12 20:25:56--  https://raw.githubusercontent.com/alexeygrigorev/mlbookcamp-code/master/chapter-02-car-price/data.csv\n",
            "Resolving raw.githubusercontent.com (raw.githubusercontent.com)... 185.199.108.133, 185.199.110.133, 185.199.111.133, ...\n",
            "Connecting to raw.githubusercontent.com (raw.githubusercontent.com)|185.199.108.133|:443... connected.\n",
            "HTTP request sent, awaiting response... 200 OK\n",
            "Length: 1475504 (1.4M) [text/plain]\n",
            "Saving to: ‘data.csv’\n",
            "\n",
            "\rdata.csv              0%[                    ]       0  --.-KB/s               \rdata.csv            100%[===================>]   1.41M  --.-KB/s    in 0.01s   \n",
            "\n",
            "2022-09-12 20:25:56 (127 MB/s) - ‘data.csv’ saved [1475504/1475504]\n",
            "\n"
          ]
        }
      ]
    },
    {
      "cell_type": "markdown",
      "source": [
        "# Question 2\n",
        "How many records are in the dataset?"
      ],
      "metadata": {
        "id": "ZA4Bb2OjeizW"
      }
    },
    {
      "cell_type": "code",
      "source": [
        "df = pd.read_csv(\"data.csv\")"
      ],
      "metadata": {
        "id": "dRL-NEuQYWJN"
      },
      "execution_count": 8,
      "outputs": []
    },
    {
      "cell_type": "code",
      "source": [
        "df.shape"
      ],
      "metadata": {
        "colab": {
          "base_uri": "https://localhost:8080/"
        },
        "id": "azDXMLPqZ9iK",
        "outputId": "48ff4598-3707-4372-d2d3-9e86cb76ec99"
      },
      "execution_count": 9,
      "outputs": [
        {
          "output_type": "execute_result",
          "data": {
            "text/plain": [
              "(11914, 16)"
            ]
          },
          "metadata": {},
          "execution_count": 9
        }
      ]
    },
    {
      "cell_type": "markdown",
      "source": [
        "# Question 3\n",
        "\n",
        "Who are the most frequent car manufacturers (top-3) according to the dataset?"
      ],
      "metadata": {
        "id": "jirm9GxIfCZk"
      }
    },
    {
      "cell_type": "code",
      "source": [
        "df.Make.value_counts().nlargest(3)"
      ],
      "metadata": {
        "colab": {
          "base_uri": "https://localhost:8080/"
        },
        "id": "n1PUm2KZaAvY",
        "outputId": "af832dff-42c6-419b-c8ef-d7df8bbd8ba2"
      },
      "execution_count": 10,
      "outputs": [
        {
          "output_type": "execute_result",
          "data": {
            "text/plain": [
              "Chevrolet     1123\n",
              "Ford           881\n",
              "Volkswagen     809\n",
              "Name: Make, dtype: int64"
            ]
          },
          "metadata": {},
          "execution_count": 10
        }
      ]
    },
    {
      "cell_type": "markdown",
      "source": [
        "# Question 4\n",
        "\n",
        "What's the number of unique Audi car models in the dataset?"
      ],
      "metadata": {
        "id": "JMmwT-Sne71K"
      }
    },
    {
      "cell_type": "code",
      "source": [
        "df[df.Make == 'Audi'].Model.nunique()"
      ],
      "metadata": {
        "colab": {
          "base_uri": "https://localhost:8080/"
        },
        "id": "QquYIslKaPxy",
        "outputId": "fe3e13b3-f80b-47c7-bc25-f8cc792d429e"
      },
      "execution_count": 11,
      "outputs": [
        {
          "output_type": "execute_result",
          "data": {
            "text/plain": [
              "34"
            ]
          },
          "metadata": {},
          "execution_count": 11
        }
      ]
    },
    {
      "cell_type": "markdown",
      "source": [
        "# Question 5\n",
        "\n",
        "How many columns in the dataset have missing values?"
      ],
      "metadata": {
        "id": "d3qcujhtfS7I"
      }
    },
    {
      "cell_type": "code",
      "source": [
        "na_per_column = df.isna().sum()\n",
        "len(na_per_column[na_per_column > 0])"
      ],
      "metadata": {
        "colab": {
          "base_uri": "https://localhost:8080/"
        },
        "id": "OkrNZzx7aaFF",
        "outputId": "c8e24975-97f5-4eef-8646-e494981578ee"
      },
      "execution_count": 12,
      "outputs": [
        {
          "output_type": "execute_result",
          "data": {
            "text/plain": [
              "5"
            ]
          },
          "metadata": {},
          "execution_count": 12
        }
      ]
    },
    {
      "cell_type": "markdown",
      "source": [
        "# Question 6\n",
        "\n",
        "1. Find the median value of \"Engine Cylinders\" column in the dataset.\n",
        "2. Next, calculate the most frequent value of the same \"Engine Cylinders\".\n",
        "3. Use the `fillna` method to fill the missing values in \"Engine Cylinders\" with the most frequent value from the previous step.\n",
        "4. Now, calculate the median value of \"Engine Cylinders\" once again.\n",
        "\n",
        "Has it changed?"
      ],
      "metadata": {
        "id": "Xdl4U8bMfdTx"
      }
    },
    {
      "cell_type": "code",
      "source": [
        "# Find the median value of \"Engine Cylinders\" column in the dataset.\n",
        "df['Engine Cylinders'].median()"
      ],
      "metadata": {
        "colab": {
          "base_uri": "https://localhost:8080/"
        },
        "id": "CJDVLN0obEFE",
        "outputId": "d405f907-8067-478f-b308-bbce819a7067"
      },
      "execution_count": 13,
      "outputs": [
        {
          "output_type": "execute_result",
          "data": {
            "text/plain": [
              "6.0"
            ]
          },
          "metadata": {},
          "execution_count": 13
        }
      ]
    },
    {
      "cell_type": "code",
      "source": [
        "# Next, calculate the most frequent value of the same \"Engine Cylinders\".\n",
        "most_frequent = df['Engine Cylinders'].mode()[0]\n",
        "most_frequent"
      ],
      "metadata": {
        "colab": {
          "base_uri": "https://localhost:8080/"
        },
        "id": "Ukonbzn7bl9V",
        "outputId": "556b622f-0e82-4335-eb86-b4eb8d03843c"
      },
      "execution_count": 17,
      "outputs": [
        {
          "output_type": "execute_result",
          "data": {
            "text/plain": [
              "4.0"
            ]
          },
          "metadata": {},
          "execution_count": 17
        }
      ]
    },
    {
      "cell_type": "code",
      "source": [
        "# Use the fillna method to fill the missing values in \"Engine Cylinders\" with the most frequent value from the previous step.\n",
        "df['Engine Cylinders'].fillna(value=most_frequent, inplace=True)"
      ],
      "metadata": {
        "id": "uOl-wSI8cL_9"
      },
      "execution_count": 18,
      "outputs": []
    },
    {
      "cell_type": "code",
      "source": [
        "# Now, calculate the median value of \"Engine Cylinders\" once again.\n",
        "df['Engine Cylinders'].median()"
      ],
      "metadata": {
        "colab": {
          "base_uri": "https://localhost:8080/"
        },
        "id": "16jCfK5UcfJB",
        "outputId": "cc4583b5-f6c5-4fc9-8915-6b56c262089d"
      },
      "execution_count": 19,
      "outputs": [
        {
          "output_type": "execute_result",
          "data": {
            "text/plain": [
              "6.0"
            ]
          },
          "metadata": {},
          "execution_count": 19
        }
      ]
    },
    {
      "cell_type": "markdown",
      "source": [
        "# Question 7\n",
        "\n",
        "1. Select all the \"Lotus\" cars from the dataset.\n",
        "2. Select only columns \"Engine HP\", \"Engine Cylinders\".\n",
        "3. Now drop all duplicated rows using `drop_duplicates` method (you should get a dataframe with 9 rows).\n",
        "4. Get the underlying NumPy array. Let's call it `X`.\n",
        "5. Compute matrix-matrix multiplication between the transpose of `X` and `X`. To get the transpose, use `X.T`. Let's call the result `XTX`.\n",
        "6. Compute the inverse of `XTX`.\n",
        "7. Create an array `y` with values `[1100, 800, 750, 850, 1300, 1000, 1000, 1300, 800]`.\n",
        "8. Multiply the inverse of `XTX` with the transpose of `X`, and then multiply the result by `y`. Call the result `w`.\n",
        "9. What's the value of the first element of `w`?"
      ],
      "metadata": {
        "id": "DaijQLLafoxo"
      }
    },
    {
      "cell_type": "code",
      "source": [
        "# 7.1) Select all the \"Lotus\" cars from the dataset.\n",
        "lotus = df[df.Make == 'Lotus']\n",
        "# Select only columns \"Engine HP\", \"Engine Cylinders\".\n",
        "lotus = lotus[['Engine HP', 'Engine Cylinders']]\n",
        "# Now drop all duplicated rows using drop_duplicates method (you should get a dataframe with 9 rows).\n",
        "lotus = lotus.drop_duplicates()\n",
        "# Get the underlying NumPy array. Let's call it X.\n",
        "X = lotus.to_numpy()\n",
        "# Compute matrix-matrix multiplication between the transpose of X and X. To get the transpose, use X.T.\n",
        "# Let's call the result XTX.\n",
        "XTX = np.matmul(X.T, X)\n",
        "# Invert XTX.\n",
        "XTX_inv = np.linalg.inv(XTX)\n",
        "# Create an array y with values [1100, 800, 750, 850, 1300, 1000, 1000, 1300, 800].\n",
        "y = [1100, 800, 750, 850, 1300, 1000, 1000, 1300, 800]\n",
        "# Multiply the inverse of XTX with the transpose of X, and then multiply the result by y. Call the result w.\n",
        "w = XTX_inv.dot(X.T).dot(y)\n",
        "# What's the value of the first element of w?\n",
        "print(w[0])  # 4.5949"
      ],
      "metadata": {
        "colab": {
          "base_uri": "https://localhost:8080/"
        },
        "id": "7v5spxF8c7Pe",
        "outputId": "8af112b8-8ac8-40a2-9971-7b3764fd6377"
      },
      "execution_count": 20,
      "outputs": [
        {
          "output_type": "stream",
          "name": "stdout",
          "text": [
            "4.594944810094551\n"
          ]
        }
      ]
    }
  ]
}